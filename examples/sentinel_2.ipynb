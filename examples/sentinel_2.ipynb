{
 "cells": [
  {
   "cell_type": "markdown",
   "metadata": {},
   "source": [
    "# Build Sentinel-2 Data Cubes\n",
    "\n",
    "This notebook demonstrates how to construct 3D data cubes from multiple Sentinel-2 tiles using [**xcube-eopf**](https://github.com/EOPF-Sample-Service/xcube-eopf). The following steps are performed by **xcube-eopf** to generate the data cubes:\n",
    "\n",
    "- **Query tiles**: Identify relevant Sentinel-2 tiles based on a spatiotemporal search using the [EOPF Zarr Sample Service STAC API](https://stac.core.eopf.eodc.eu).\n",
    "- **Group by tile and date**: Organize STAC items by MGRS tile ID and solar day.\n",
    "- **Spatial mosaicking**: Merge adjacent tiles acquired on the same day into seamless scenes.\n",
    "- **Time stacking**: Combine daily mosaics along the time dimension to form 3D data cubes for each data variable (e.g., spectral bands).\n"
   ]
  },
  {
   "cell_type": "code",
   "execution_count": 1,
   "metadata": {},
   "outputs": [],
   "source": [
    "from xcube.core.store import new_data_store\n",
    "from xcube_eopf.utils import reproject_bbox\n",
    "import xarray as xr"
   ]
  },
  {
   "cell_type": "code",
   "execution_count": 2,
   "metadata": {},
   "outputs": [
    {
     "data": {
      "text/plain": [
       "<xarray.core.options.set_options at 0x741362021940>"
      ]
     },
     "execution_count": 2,
     "metadata": {},
     "output_type": "execute_result"
    }
   ],
   "source": [
    "xr.set_options(display_expand_attrs=False)"
   ]
  },
  {
   "cell_type": "markdown",
   "metadata": {},
   "source": [
    "To initialize an `eopf-zarr` [data store](https://xcube.readthedocs.io/en/latest/dataaccess.html#data-store-framework), execute the cell below:"
   ]
  },
  {
   "cell_type": "code",
   "execution_count": 3,
   "metadata": {},
   "outputs": [],
   "source": [
    "store = new_data_store(\"eopf-zarr\")"
   ]
  },
  {
   "cell_type": "markdown",
   "metadata": {},
   "source": [
    "The data IDs point to [STAC collections](https://stac.browser.user.eopf.eodc.eu). So far only `'sentinel-2-l1c'` and `'sentinel-2-l2a'` is supported."
   ]
  },
  {
   "cell_type": "code",
   "execution_count": 4,
   "metadata": {
    "scrolled": true
   },
   "outputs": [
    {
     "data": {
      "text/plain": [
       "['sentinel-2-l1c', 'sentinel-2-l2a']"
      ]
     },
     "execution_count": 4,
     "metadata": {},
     "output_type": "execute_result"
    }
   ],
   "source": [
    "data_ids = store.list_data_ids()\n",
    "data_ids"
   ]
  },
  {
   "cell_type": "markdown",
   "metadata": {},
   "source": [
    "Below, the parameters for the `open_data` method can be viewed for each supported data product. "
   ]
  },
  {
   "cell_type": "code",
   "execution_count": 5,
   "metadata": {},
   "outputs": [
    {
     "data": {
      "application/json": {
       "properties": {
        "sentinel-2-l1c": {
         "additionalProperties": false,
         "properties": {
          "bbox": {
           "items": [
            {
             "type": "number"
            },
            {
             "type": "number"
            },
            {
             "type": "number"
            },
            {
             "type": "number"
            }
           ],
           "title": "Bounding box [west, south, east, north] in geographical coordinates.",
           "type": "array"
          },
          "crs": {
           "title": "Coordinate reference system",
           "type": "string"
          },
          "query": {
           "additionalProperties": true,
           "description": "Additional filtering based on the properties of Item objects is supported. For more information see https://github.com/stac-api-extensions/query",
           "properties": {},
           "title": "Additional query options used during item search of STAC API.",
           "type": "object"
          },
          "spatial_res": {
           "exclusiveMinimum": 0,
           "title": "Spatial Resolution",
           "type": "number"
          },
          "tile_size": {
           "description": "Tile size in y and x (or lat and lon if crs is geographic) in returned dataset.",
           "items": [
            {
             "minimum": 1,
             "type": "integer"
            },
            {
             "minimum": 1,
             "type": "integer"
            }
           ],
           "title": "Tile size of returned dataset",
           "type": [
            "array",
            "null"
           ]
          },
          "time_range": {
           "description": "Time range given as pair of start and stop dates. Dates must be given using format 'YYYY-MM-DD'. Start and stop are inclusive.",
           "items": [
            {
             "format": "date",
             "type": [
              "string",
              "null"
             ]
            },
            {
             "format": "date",
             "type": [
              "string",
              "null"
             ]
            }
           ],
           "title": "Time Range",
           "type": "array"
          },
          "variables": {
           "description": "Names of variables which will be included in the data cube.",
           "items": {
            "minLength": 0,
            "type": "string"
           },
           "title": "Names of variables in dataset",
           "type": "array",
           "uniqueItems": true
          }
         },
         "required": [
          "time_range",
          "bbox",
          "crs",
          "spatial_res"
         ],
         "title": "Opening parameters for Sentinel-2 products.",
         "type": "object"
        },
        "sentinel-2-l2a": {
         "additionalProperties": false,
         "properties": {
          "bbox": {
           "items": [
            {
             "type": "number"
            },
            {
             "type": "number"
            },
            {
             "type": "number"
            },
            {
             "type": "number"
            }
           ],
           "title": "Bounding box [west, south, east, north] in geographical coordinates.",
           "type": "array"
          },
          "crs": {
           "title": "Coordinate reference system",
           "type": "string"
          },
          "query": {
           "additionalProperties": true,
           "description": "Additional filtering based on the properties of Item objects is supported. For more information see https://github.com/stac-api-extensions/query",
           "properties": {},
           "title": "Additional query options used during item search of STAC API.",
           "type": "object"
          },
          "spatial_res": {
           "exclusiveMinimum": 0,
           "title": "Spatial Resolution",
           "type": "number"
          },
          "tile_size": {
           "description": "Tile size in y and x (or lat and lon if crs is geographic) in returned dataset.",
           "items": [
            {
             "minimum": 1,
             "type": "integer"
            },
            {
             "minimum": 1,
             "type": "integer"
            }
           ],
           "title": "Tile size of returned dataset",
           "type": [
            "array",
            "null"
           ]
          },
          "time_range": {
           "description": "Time range given as pair of start and stop dates. Dates must be given using format 'YYYY-MM-DD'. Start and stop are inclusive.",
           "items": [
            {
             "format": "date",
             "type": [
              "string",
              "null"
             ]
            },
            {
             "format": "date",
             "type": [
              "string",
              "null"
             ]
            }
           ],
           "title": "Time Range",
           "type": "array"
          },
          "variables": {
           "description": "Names of variables which will be included in the data cube.",
           "items": {
            "minLength": 0,
            "type": "string"
           },
           "title": "Names of variables in dataset",
           "type": "array",
           "uniqueItems": true
          }
         },
         "required": [
          "time_range",
          "bbox",
          "crs",
          "spatial_res"
         ],
         "title": "Opening parameters for Sentinel-2 products.",
         "type": "object"
        }
       },
       "title": "Opening parameters for all supported Sentinel products.",
       "type": "object"
      },
      "text/plain": [
       "<xcube.util.jsonschema.JsonObjectSchema at 0x741361ce9a90>"
      ]
     },
     "execution_count": 5,
     "metadata": {},
     "output_type": "execute_result"
    }
   ],
   "source": [
    "open_params = store.get_open_data_params_schema()\n",
    "open_params"
   ]
  },
  {
   "cell_type": "markdown",
   "metadata": {},
   "source": [
    "This function also shows opening parameters for a specific `data_id`, as shown below. "
   ]
  },
  {
   "cell_type": "code",
   "execution_count": 6,
   "metadata": {},
   "outputs": [
    {
     "data": {
      "application/json": {
       "additionalProperties": false,
       "properties": {
        "bbox": {
         "items": [
          {
           "type": "number"
          },
          {
           "type": "number"
          },
          {
           "type": "number"
          },
          {
           "type": "number"
          }
         ],
         "title": "Bounding box [west, south, east, north] in geographical coordinates.",
         "type": "array"
        },
        "crs": {
         "title": "Coordinate reference system",
         "type": "string"
        },
        "query": {
         "additionalProperties": true,
         "description": "Additional filtering based on the properties of Item objects is supported. For more information see https://github.com/stac-api-extensions/query",
         "properties": {},
         "title": "Additional query options used during item search of STAC API.",
         "type": "object"
        },
        "spatial_res": {
         "exclusiveMinimum": 0,
         "title": "Spatial Resolution",
         "type": "number"
        },
        "tile_size": {
         "description": "Tile size in y and x (or lat and lon if crs is geographic) in returned dataset.",
         "items": [
          {
           "minimum": 1,
           "type": "integer"
          },
          {
           "minimum": 1,
           "type": "integer"
          }
         ],
         "title": "Tile size of returned dataset",
         "type": [
          "array",
          "null"
         ]
        },
        "time_range": {
         "description": "Time range given as pair of start and stop dates. Dates must be given using format 'YYYY-MM-DD'. Start and stop are inclusive.",
         "items": [
          {
           "format": "date",
           "type": [
            "string",
            "null"
           ]
          },
          {
           "format": "date",
           "type": [
            "string",
            "null"
           ]
          }
         ],
         "title": "Time Range",
         "type": "array"
        },
        "variables": {
         "description": "Names of variables which will be included in the data cube.",
         "items": {
          "minLength": 0,
          "type": "string"
         },
         "title": "Names of variables in dataset",
         "type": "array",
         "uniqueItems": true
        }
       },
       "required": [
        "time_range",
        "bbox",
        "crs",
        "spatial_res"
       ],
       "title": "Opening parameters for Sentinel-2 products.",
       "type": "object"
      },
      "text/plain": [
       "<xcube.util.jsonschema.JsonObjectSchema at 0x74135a683930>"
      ]
     },
     "execution_count": 6,
     "metadata": {},
     "output_type": "execute_result"
    }
   ],
   "source": [
    "open_params = store.get_open_data_params_schema(data_id=\"sentinel-2-l2a\")\n",
    "open_params"
   ]
  },
  {
   "cell_type": "markdown",
   "metadata": {},
   "source": [
    "We now want to generate a data cube from the Sentinel-2 L2A product. We therefore assign `data_id` to `\"sentinel-2-l2a\"`. We set the bounding box to cover the greater Hamburg area and the time range to the first half of Mai 2025. We first want to get the datacube in the native UTM projection. "
   ]
  },
  {
   "cell_type": "code",
   "execution_count": 7,
   "metadata": {},
   "outputs": [],
   "source": [
    "bbox = [9.7, 53.4, 10.3, 57.3]\n",
    "crs_target = \"EPSG:32632\"\n",
    "bbox_utm = reproject_bbox(bbox, \"EPSG:4326\", crs_target)"
   ]
  },
  {
   "cell_type": "code",
   "execution_count": 9,
   "metadata": {},
   "outputs": [
    {
     "ename": "ClientResponseError",
     "evalue": "504, message='Gateway Time-out', url='https://objectstore.eodc.eu:2222/e05ab01a9d56408d82ac32d69a5aae2a:202505-s02msil2a/01/products/cpm_v256/S2C_MSIL2A_20250501T104041_N0511_R008_T32UNE_20250501T161558.zarr/measurements/reflectance/r10m/y/0'",
     "output_type": "error",
     "traceback": [
      "\u001b[31m---------------------------------------------------------------------------\u001b[39m",
      "\u001b[31mClientResponseError\u001b[39m                       Traceback (most recent call last)",
      "\u001b[36mFile \u001b[39m\u001b[32m<timed exec>:1\u001b[39m\n",
      "\u001b[36mFile \u001b[39m\u001b[32m~/micromamba/envs/xcube-eopf/lib/python3.13/site-packages/xcube_eopf/store.py:106\u001b[39m, in \u001b[36mEOPFZarrDataStore.open_data\u001b[39m\u001b[34m(self, data_id, opener_id, data_type, **open_params)\u001b[39m\n\u001b[32m    104\u001b[39m \u001b[38;5;28mself\u001b[39m._assert_valid_opener_id(opener_id)\n\u001b[32m    105\u001b[39m product_handler = ProductHandler.guess(data_id)\n\u001b[32m--> \u001b[39m\u001b[32m106\u001b[39m \u001b[38;5;28;01mreturn\u001b[39;00m \u001b[43mproduct_handler\u001b[49m\u001b[43m.\u001b[49m\u001b[43mopen_data\u001b[49m\u001b[43m(\u001b[49m\u001b[43m*\u001b[49m\u001b[43m*\u001b[49m\u001b[43mopen_params\u001b[49m\u001b[43m)\u001b[49m\n",
      "\u001b[36mFile \u001b[39m\u001b[32m~/micromamba/envs/xcube-eopf/lib/python3.13/site-packages/xcube_eopf/prodhandlers/sentinel2.py:89\u001b[39m, in \u001b[36mSen2ProductHandler.open_data\u001b[39m\u001b[34m(self, **open_params)\u001b[39m\n\u001b[32m     86\u001b[39m grouped_items = group_items(items)\n\u001b[32m     88\u001b[39m \u001b[38;5;66;03m# generate cube by mosaicking and stacking tiles\u001b[39;00m\n\u001b[32m---> \u001b[39m\u001b[32m89\u001b[39m ds = \u001b[43mgenerate_cube\u001b[49m\u001b[43m(\u001b[49m\u001b[43mgrouped_items\u001b[49m\u001b[43m,\u001b[49m\u001b[43m \u001b[49m\u001b[43m*\u001b[49m\u001b[43m*\u001b[49m\u001b[43mopen_params\u001b[49m\u001b[43m)\u001b[49m\n\u001b[32m     91\u001b[39m \u001b[38;5;66;03m# add attributes\u001b[39;00m\n\u001b[32m     92\u001b[39m ds = add_attributes(ds, grouped_items, **open_params)\n",
      "\u001b[36mFile \u001b[39m\u001b[32m~/micromamba/envs/xcube-eopf/lib/python3.13/site-packages/xcube_eopf/prodhandlers/sentinel2.py:213\u001b[39m, in \u001b[36mgenerate_cube\u001b[39m\u001b[34m(grouped_items, **open_params)\u001b[39m\n\u001b[32m    211\u001b[39m list_ds_utm = []\n\u001b[32m    212\u001b[39m \u001b[38;5;28;01mfor\u001b[39;00m crs, tile_ids \u001b[38;5;129;01min\u001b[39;00m utm_tile_id.items():\n\u001b[32m--> \u001b[39m\u001b[32m213\u001b[39m     ds = \u001b[43m_generate_utm_cube\u001b[49m\u001b[43m(\u001b[49m\u001b[43mgrouped_items\u001b[49m\u001b[43m.\u001b[49m\u001b[43msel\u001b[49m\u001b[43m(\u001b[49m\u001b[43mtile_id\u001b[49m\u001b[43m=\u001b[49m\u001b[43mtile_ids\u001b[49m\u001b[43m)\u001b[49m\u001b[43m,\u001b[49m\u001b[43m \u001b[49m\u001b[43mcrs\u001b[49m\u001b[43m,\u001b[49m\u001b[43m \u001b[49m\u001b[43m*\u001b[49m\u001b[43m*\u001b[49m\u001b[43mopen_params\u001b[49m\u001b[43m)\u001b[49m\n\u001b[32m    214\u001b[39m     list_ds_utm.append(ds)\n\u001b[32m    216\u001b[39m \u001b[38;5;66;03m# Reproject datasets from different UTM zones to a common grid reference system\u001b[39;00m\n\u001b[32m    217\u001b[39m \u001b[38;5;66;03m# and merge them into a single unified dataset for seamless spatial analysis.\u001b[39;00m\n",
      "\u001b[36mFile \u001b[39m\u001b[32m~/micromamba/envs/xcube-eopf/lib/python3.13/site-packages/xcube_eopf/prodhandlers/sentinel2.py:300\u001b[39m, in \u001b[36m_generate_utm_cube\u001b[39m\u001b[34m(grouped_items, crs_utm, **open_params)\u001b[39m\n\u001b[32m    298\u001b[39m multi_tiles = []\n\u001b[32m    299\u001b[39m \u001b[38;5;28;01mfor\u001b[39;00m item \u001b[38;5;129;01min\u001b[39;00m items:\n\u001b[32m--> \u001b[39m\u001b[32m300\u001b[39m     ds = \u001b[43mxr\u001b[49m\u001b[43m.\u001b[49m\u001b[43mopen_dataset\u001b[49m\u001b[43m(\u001b[49m\n\u001b[32m    301\u001b[39m \u001b[43m        \u001b[49m\u001b[43mitem\u001b[49m\u001b[43m.\u001b[49m\u001b[43massets\u001b[49m\u001b[43m[\u001b[49m\u001b[33;43m\"\u001b[39;49m\u001b[33;43mproduct\u001b[39;49m\u001b[33;43m\"\u001b[39;49m\u001b[43m]\u001b[49m\u001b[43m.\u001b[49m\u001b[43mhref\u001b[49m\u001b[43m,\u001b[49m\n\u001b[32m    302\u001b[39m \u001b[43m        \u001b[49m\u001b[43mengine\u001b[49m\u001b[43m=\u001b[49m\u001b[33;43m\"\u001b[39;49m\u001b[33;43meopf-zarr\u001b[39;49m\u001b[33;43m\"\u001b[39;49m\u001b[43m,\u001b[49m\n\u001b[32m    303\u001b[39m \u001b[43m        \u001b[49m\u001b[43mchunks\u001b[49m\u001b[43m=\u001b[49m\u001b[43m{\u001b[49m\u001b[43m}\u001b[49m\u001b[43m,\u001b[49m\n\u001b[32m    304\u001b[39m \u001b[43m        \u001b[49m\u001b[43m*\u001b[49m\u001b[43m*\u001b[49m\u001b[43mxarray_open_params\u001b[49m\u001b[43m,\u001b[49m\n\u001b[32m    305\u001b[39m \u001b[43m    \u001b[49m\u001b[43m)\u001b[49m\n\u001b[32m    306\u001b[39m     ds = ds.sel(\n\u001b[32m    307\u001b[39m         x=\u001b[38;5;28mslice\u001b[39m(final_bbox[\u001b[32m0\u001b[39m], final_bbox[\u001b[32m2\u001b[39m]),\n\u001b[32m    308\u001b[39m         y=\u001b[38;5;28mslice\u001b[39m(final_bbox[\u001b[32m3\u001b[39m], final_bbox[\u001b[32m1\u001b[39m]),\n\u001b[32m    309\u001b[39m     )\n\u001b[32m    310\u001b[39m     \u001b[38;5;28;01mif\u001b[39;00m \u001b[38;5;28many\u001b[39m(size == \u001b[32m0\u001b[39m \u001b[38;5;28;01mfor\u001b[39;00m size \u001b[38;5;129;01min\u001b[39;00m ds.sizes.values()):\n",
      "\u001b[36mFile \u001b[39m\u001b[32m~/micromamba/envs/xcube-eopf/lib/python3.13/site-packages/xarray/backends/api.py:687\u001b[39m, in \u001b[36mopen_dataset\u001b[39m\u001b[34m(filename_or_obj, engine, chunks, cache, decode_cf, mask_and_scale, decode_times, decode_timedelta, use_cftime, concat_characters, decode_coords, drop_variables, inline_array, chunked_array_type, from_array_kwargs, backend_kwargs, **kwargs)\u001b[39m\n\u001b[32m    675\u001b[39m decoders = _resolve_decoders_kwargs(\n\u001b[32m    676\u001b[39m     decode_cf,\n\u001b[32m    677\u001b[39m     open_backend_dataset_parameters=backend.open_dataset_parameters,\n\u001b[32m   (...)\u001b[39m\u001b[32m    683\u001b[39m     decode_coords=decode_coords,\n\u001b[32m    684\u001b[39m )\n\u001b[32m    686\u001b[39m overwrite_encoded_chunks = kwargs.pop(\u001b[33m\"\u001b[39m\u001b[33moverwrite_encoded_chunks\u001b[39m\u001b[33m\"\u001b[39m, \u001b[38;5;28;01mNone\u001b[39;00m)\n\u001b[32m--> \u001b[39m\u001b[32m687\u001b[39m backend_ds = \u001b[43mbackend\u001b[49m\u001b[43m.\u001b[49m\u001b[43mopen_dataset\u001b[49m\u001b[43m(\u001b[49m\n\u001b[32m    688\u001b[39m \u001b[43m    \u001b[49m\u001b[43mfilename_or_obj\u001b[49m\u001b[43m,\u001b[49m\n\u001b[32m    689\u001b[39m \u001b[43m    \u001b[49m\u001b[43mdrop_variables\u001b[49m\u001b[43m=\u001b[49m\u001b[43mdrop_variables\u001b[49m\u001b[43m,\u001b[49m\n\u001b[32m    690\u001b[39m \u001b[43m    \u001b[49m\u001b[43m*\u001b[49m\u001b[43m*\u001b[49m\u001b[43mdecoders\u001b[49m\u001b[43m,\u001b[49m\n\u001b[32m    691\u001b[39m \u001b[43m    \u001b[49m\u001b[43m*\u001b[49m\u001b[43m*\u001b[49m\u001b[43mkwargs\u001b[49m\u001b[43m,\u001b[49m\n\u001b[32m    692\u001b[39m \u001b[43m\u001b[49m\u001b[43m)\u001b[49m\n\u001b[32m    693\u001b[39m ds = _dataset_from_backend_dataset(\n\u001b[32m    694\u001b[39m     backend_ds,\n\u001b[32m    695\u001b[39m     filename_or_obj,\n\u001b[32m   (...)\u001b[39m\u001b[32m    705\u001b[39m     **kwargs,\n\u001b[32m    706\u001b[39m )\n\u001b[32m    707\u001b[39m \u001b[38;5;28;01mreturn\u001b[39;00m ds\n",
      "\u001b[36mFile \u001b[39m\u001b[32m~/micromamba/envs/xcube-eopf/lib/python3.13/site-packages/xarray_eopf/backend.py:185\u001b[39m, in \u001b[36mEopfBackend.open_dataset\u001b[39m\u001b[34m(self, filename_or_obj, op_mode, storage_options, group_sep, variables, product_type, resolution, spline_orders, agg_methods, drop_variables, decode_timedelta)\u001b[39m\n\u001b[32m    132\u001b[39m \u001b[38;5;250m\u001b[39m\u001b[33;03m\"\"\"Backend implementation delegated to by\u001b[39;00m\n\u001b[32m    133\u001b[39m \u001b[33;03m[`xarray.open_dataset()`](https://docs.xarray.dev/en/stable/generated/xarray.open_dataset.html).\u001b[39;00m\n\u001b[32m    134\u001b[39m \n\u001b[32m   (...)\u001b[39m\u001b[32m    181\u001b[39m \u001b[33;03m    A new dataset instance.\u001b[39;00m\n\u001b[32m    182\u001b[39m \u001b[33;03m\"\"\"\u001b[39;00m\n\u001b[32m    183\u001b[39m assert_arg_is_one_of(op_mode, \u001b[33m\"\u001b[39m\u001b[33mop_mode\u001b[39m\u001b[33m\"\u001b[39m, OP_MODES)\n\u001b[32m--> \u001b[39m\u001b[32m185\u001b[39m datatree = \u001b[38;5;28;43mself\u001b[39;49m\u001b[43m.\u001b[49m\u001b[43mopen_datatree\u001b[49m\u001b[43m(\u001b[49m\n\u001b[32m    186\u001b[39m \u001b[43m    \u001b[49m\u001b[43mfilename_or_obj\u001b[49m\u001b[43m,\u001b[49m\n\u001b[32m    187\u001b[39m \u001b[43m    \u001b[49m\u001b[43mop_mode\u001b[49m\u001b[43m=\u001b[49m\u001b[33;43m\"\u001b[39;49m\u001b[33;43mnative\u001b[39;49m\u001b[33;43m\"\u001b[39;49m\u001b[43m,\u001b[49m\n\u001b[32m    188\u001b[39m \u001b[43m    \u001b[49m\u001b[43mstorage_options\u001b[49m\u001b[43m=\u001b[49m\u001b[43mstorage_options\u001b[49m\u001b[43m,\u001b[49m\n\u001b[32m    189\u001b[39m \u001b[43m    \u001b[49m\u001b[38;5;66;43;03m# here as it is required for all backends\u001b[39;49;00m\n\u001b[32m    190\u001b[39m \u001b[43m    \u001b[49m\u001b[43mdrop_variables\u001b[49m\u001b[43m=\u001b[49m\u001b[43mdrop_variables\u001b[49m\u001b[43m,\u001b[49m\n\u001b[32m    191\u001b[39m \u001b[43m    \u001b[49m\u001b[38;5;66;43;03m# here to silence xarray warnings\u001b[39;49;00m\n\u001b[32m    192\u001b[39m \u001b[43m    \u001b[49m\u001b[43mdecode_timedelta\u001b[49m\u001b[43m=\u001b[49m\u001b[43mdecode_timedelta\u001b[49m\u001b[43m,\u001b[49m\n\u001b[32m    193\u001b[39m \u001b[43m\u001b[49m\u001b[43m)\u001b[49m\n\u001b[32m    195\u001b[39m _assert_datatree_is_chunked(datatree)\n\u001b[32m    197\u001b[39m \u001b[38;5;28;01mif\u001b[39;00m op_mode == OP_MODE_NATIVE:\n\u001b[32m    198\u001b[39m     \u001b[38;5;66;03m# native mode\u001b[39;00m\n",
      "\u001b[36mFile \u001b[39m\u001b[32m~/micromamba/envs/xcube-eopf/lib/python3.13/site-packages/xarray_eopf/backend.py:81\u001b[39m, in \u001b[36mEopfBackend.open_datatree\u001b[39m\u001b[34m(self, filename_or_obj, op_mode, product_type, storage_options, drop_variables, decode_timedelta)\u001b[39m\n\u001b[32m     78\u001b[39m _, subgroup_path = get_source_paths(source)\n\u001b[32m     80\u001b[39m \u001b[38;5;66;03m# noinspection PyTypeChecker\u001b[39;00m\n\u001b[32m---> \u001b[39m\u001b[32m81\u001b[39m datatree = \u001b[43mxr\u001b[49m\u001b[43m.\u001b[49m\u001b[43mopen_datatree\u001b[49m\u001b[43m(\u001b[49m\n\u001b[32m     82\u001b[39m \u001b[43m    \u001b[49m\u001b[43msource\u001b[49m\u001b[43m,\u001b[49m\n\u001b[32m     83\u001b[39m \u001b[43m    \u001b[49m\u001b[43mengine\u001b[49m\u001b[43m=\u001b[49m\u001b[33;43m\"\u001b[39;49m\u001b[33;43mzarr\u001b[39;49m\u001b[33;43m\"\u001b[39;49m\u001b[43m,\u001b[49m\n\u001b[32m     84\u001b[39m \u001b[43m    \u001b[49m\u001b[38;5;66;43;03m# prefer the chunking from the Zarr metadata\u001b[39;49;00m\n\u001b[32m     85\u001b[39m \u001b[43m    \u001b[49m\u001b[43mchunks\u001b[49m\u001b[43m=\u001b[49m\u001b[43m{\u001b[49m\u001b[43m}\u001b[49m\u001b[43m,\u001b[49m\n\u001b[32m     86\u001b[39m \u001b[43m    \u001b[49m\u001b[38;5;66;43;03m# here as it is required for all backends\u001b[39;49;00m\n\u001b[32m     87\u001b[39m \u001b[43m    \u001b[49m\u001b[43mdrop_variables\u001b[49m\u001b[43m=\u001b[49m\u001b[43mdrop_variables\u001b[49m\u001b[43m,\u001b[49m\n\u001b[32m     88\u001b[39m \u001b[43m    \u001b[49m\u001b[38;5;66;43;03m# here to silence xarray warnings\u001b[39;49;00m\n\u001b[32m     89\u001b[39m \u001b[43m    \u001b[49m\u001b[43mdecode_timedelta\u001b[49m\u001b[43m=\u001b[49m\u001b[43mdecode_timedelta\u001b[49m\u001b[43m,\u001b[49m\n\u001b[32m     90\u001b[39m \u001b[43m    \u001b[49m\u001b[38;5;66;43;03m# subgroups don't have consolidated metadata\u001b[39;49;00m\n\u001b[32m     91\u001b[39m \u001b[43m    \u001b[49m\u001b[43mconsolidated\u001b[49m\u001b[43m=\u001b[49m\u001b[38;5;28;43;01mFalse\u001b[39;49;00m\u001b[43m \u001b[49m\u001b[38;5;28;43;01mif\u001b[39;49;00m\u001b[43m \u001b[49m\u001b[43msubgroup_path\u001b[49m\u001b[43m \u001b[49m\u001b[38;5;28;43;01melse\u001b[39;49;00m\u001b[43m \u001b[49m\u001b[38;5;28;43;01mNone\u001b[39;49;00m\u001b[43m,\u001b[49m\n\u001b[32m     92\u001b[39m \u001b[43m\u001b[49m\u001b[43m)\u001b[49m\n\u001b[32m     94\u001b[39m _assert_datatree_is_chunked(datatree)\n\u001b[32m     96\u001b[39m \u001b[38;5;28;01mif\u001b[39;00m op_mode == OP_MODE_NATIVE:\n\u001b[32m     97\u001b[39m     \u001b[38;5;66;03m# native mode, so we return tree as-is\u001b[39;00m\n",
      "\u001b[36mFile \u001b[39m\u001b[32m~/micromamba/envs/xcube-eopf/lib/python3.13/site-packages/xarray/backends/api.py:1132\u001b[39m, in \u001b[36mopen_datatree\u001b[39m\u001b[34m(filename_or_obj, engine, chunks, cache, decode_cf, mask_and_scale, decode_times, decode_timedelta, use_cftime, concat_characters, decode_coords, drop_variables, inline_array, chunked_array_type, from_array_kwargs, backend_kwargs, **kwargs)\u001b[39m\n\u001b[32m   1120\u001b[39m decoders = _resolve_decoders_kwargs(\n\u001b[32m   1121\u001b[39m     decode_cf,\n\u001b[32m   1122\u001b[39m     open_backend_dataset_parameters=backend.open_dataset_parameters,\n\u001b[32m   (...)\u001b[39m\u001b[32m   1128\u001b[39m     decode_coords=decode_coords,\n\u001b[32m   1129\u001b[39m )\n\u001b[32m   1130\u001b[39m overwrite_encoded_chunks = kwargs.pop(\u001b[33m\"\u001b[39m\u001b[33moverwrite_encoded_chunks\u001b[39m\u001b[33m\"\u001b[39m, \u001b[38;5;28;01mNone\u001b[39;00m)\n\u001b[32m-> \u001b[39m\u001b[32m1132\u001b[39m backend_tree = \u001b[43mbackend\u001b[49m\u001b[43m.\u001b[49m\u001b[43mopen_datatree\u001b[49m\u001b[43m(\u001b[49m\n\u001b[32m   1133\u001b[39m \u001b[43m    \u001b[49m\u001b[43mfilename_or_obj\u001b[49m\u001b[43m,\u001b[49m\n\u001b[32m   1134\u001b[39m \u001b[43m    \u001b[49m\u001b[43mdrop_variables\u001b[49m\u001b[43m=\u001b[49m\u001b[43mdrop_variables\u001b[49m\u001b[43m,\u001b[49m\n\u001b[32m   1135\u001b[39m \u001b[43m    \u001b[49m\u001b[43m*\u001b[49m\u001b[43m*\u001b[49m\u001b[43mdecoders\u001b[49m\u001b[43m,\u001b[49m\n\u001b[32m   1136\u001b[39m \u001b[43m    \u001b[49m\u001b[43m*\u001b[49m\u001b[43m*\u001b[49m\u001b[43mkwargs\u001b[49m\u001b[43m,\u001b[49m\n\u001b[32m   1137\u001b[39m \u001b[43m\u001b[49m\u001b[43m)\u001b[49m\n\u001b[32m   1139\u001b[39m tree = _datatree_from_backend_datatree(\n\u001b[32m   1140\u001b[39m     backend_tree,\n\u001b[32m   1141\u001b[39m     filename_or_obj,\n\u001b[32m   (...)\u001b[39m\u001b[32m   1151\u001b[39m     **kwargs,\n\u001b[32m   1152\u001b[39m )\n\u001b[32m   1154\u001b[39m \u001b[38;5;28;01mreturn\u001b[39;00m tree\n",
      "\u001b[36mFile \u001b[39m\u001b[32m~/micromamba/envs/xcube-eopf/lib/python3.13/site-packages/xarray/backends/zarr.py:1658\u001b[39m, in \u001b[36mZarrBackendEntrypoint.open_datatree\u001b[39m\u001b[34m(self, filename_or_obj, mask_and_scale, decode_times, concat_characters, decode_coords, drop_variables, use_cftime, decode_timedelta, group, mode, synchronizer, consolidated, chunk_store, storage_options, zarr_version, zarr_format)\u001b[39m\n\u001b[32m   1637\u001b[39m \u001b[38;5;28;01mdef\u001b[39;00m\u001b[38;5;250m \u001b[39m\u001b[34mopen_datatree\u001b[39m(\n\u001b[32m   1638\u001b[39m     \u001b[38;5;28mself\u001b[39m,\n\u001b[32m   1639\u001b[39m     filename_or_obj: \u001b[38;5;28mstr\u001b[39m | os.PathLike[Any] | ReadBuffer | AbstractDataStore,\n\u001b[32m   (...)\u001b[39m\u001b[32m   1655\u001b[39m     zarr_format=\u001b[38;5;28;01mNone\u001b[39;00m,\n\u001b[32m   1656\u001b[39m ) -> DataTree:\n\u001b[32m   1657\u001b[39m     filename_or_obj = _normalize_path(filename_or_obj)\n\u001b[32m-> \u001b[39m\u001b[32m1658\u001b[39m     groups_dict = \u001b[38;5;28;43mself\u001b[39;49m\u001b[43m.\u001b[49m\u001b[43mopen_groups_as_dict\u001b[49m\u001b[43m(\u001b[49m\n\u001b[32m   1659\u001b[39m \u001b[43m        \u001b[49m\u001b[43mfilename_or_obj\u001b[49m\u001b[43m=\u001b[49m\u001b[43mfilename_or_obj\u001b[49m\u001b[43m,\u001b[49m\n\u001b[32m   1660\u001b[39m \u001b[43m        \u001b[49m\u001b[43mmask_and_scale\u001b[49m\u001b[43m=\u001b[49m\u001b[43mmask_and_scale\u001b[49m\u001b[43m,\u001b[49m\n\u001b[32m   1661\u001b[39m \u001b[43m        \u001b[49m\u001b[43mdecode_times\u001b[49m\u001b[43m=\u001b[49m\u001b[43mdecode_times\u001b[49m\u001b[43m,\u001b[49m\n\u001b[32m   1662\u001b[39m \u001b[43m        \u001b[49m\u001b[43mconcat_characters\u001b[49m\u001b[43m=\u001b[49m\u001b[43mconcat_characters\u001b[49m\u001b[43m,\u001b[49m\n\u001b[32m   1663\u001b[39m \u001b[43m        \u001b[49m\u001b[43mdecode_coords\u001b[49m\u001b[43m=\u001b[49m\u001b[43mdecode_coords\u001b[49m\u001b[43m,\u001b[49m\n\u001b[32m   1664\u001b[39m \u001b[43m        \u001b[49m\u001b[43mdrop_variables\u001b[49m\u001b[43m=\u001b[49m\u001b[43mdrop_variables\u001b[49m\u001b[43m,\u001b[49m\n\u001b[32m   1665\u001b[39m \u001b[43m        \u001b[49m\u001b[43muse_cftime\u001b[49m\u001b[43m=\u001b[49m\u001b[43muse_cftime\u001b[49m\u001b[43m,\u001b[49m\n\u001b[32m   1666\u001b[39m \u001b[43m        \u001b[49m\u001b[43mdecode_timedelta\u001b[49m\u001b[43m=\u001b[49m\u001b[43mdecode_timedelta\u001b[49m\u001b[43m,\u001b[49m\n\u001b[32m   1667\u001b[39m \u001b[43m        \u001b[49m\u001b[43mgroup\u001b[49m\u001b[43m=\u001b[49m\u001b[43mgroup\u001b[49m\u001b[43m,\u001b[49m\n\u001b[32m   1668\u001b[39m \u001b[43m        \u001b[49m\u001b[43mmode\u001b[49m\u001b[43m=\u001b[49m\u001b[43mmode\u001b[49m\u001b[43m,\u001b[49m\n\u001b[32m   1669\u001b[39m \u001b[43m        \u001b[49m\u001b[43msynchronizer\u001b[49m\u001b[43m=\u001b[49m\u001b[43msynchronizer\u001b[49m\u001b[43m,\u001b[49m\n\u001b[32m   1670\u001b[39m \u001b[43m        \u001b[49m\u001b[43mconsolidated\u001b[49m\u001b[43m=\u001b[49m\u001b[43mconsolidated\u001b[49m\u001b[43m,\u001b[49m\n\u001b[32m   1671\u001b[39m \u001b[43m        \u001b[49m\u001b[43mchunk_store\u001b[49m\u001b[43m=\u001b[49m\u001b[43mchunk_store\u001b[49m\u001b[43m,\u001b[49m\n\u001b[32m   1672\u001b[39m \u001b[43m        \u001b[49m\u001b[43mstorage_options\u001b[49m\u001b[43m=\u001b[49m\u001b[43mstorage_options\u001b[49m\u001b[43m,\u001b[49m\n\u001b[32m   1673\u001b[39m \u001b[43m        \u001b[49m\u001b[43mzarr_version\u001b[49m\u001b[43m=\u001b[49m\u001b[43mzarr_version\u001b[49m\u001b[43m,\u001b[49m\n\u001b[32m   1674\u001b[39m \u001b[43m        \u001b[49m\u001b[43mzarr_format\u001b[49m\u001b[43m=\u001b[49m\u001b[43mzarr_format\u001b[49m\u001b[43m,\u001b[49m\n\u001b[32m   1675\u001b[39m \u001b[43m    \u001b[49m\u001b[43m)\u001b[49m\n\u001b[32m   1677\u001b[39m     \u001b[38;5;28;01mreturn\u001b[39;00m datatree_from_dict_with_io_cleanup(groups_dict)\n",
      "\u001b[36mFile \u001b[39m\u001b[32m~/micromamba/envs/xcube-eopf/lib/python3.13/site-packages/xarray/backends/zarr.py:1725\u001b[39m, in \u001b[36mZarrBackendEntrypoint.open_groups_as_dict\u001b[39m\u001b[34m(self, filename_or_obj, mask_and_scale, decode_times, concat_characters, decode_coords, drop_variables, use_cftime, decode_timedelta, group, mode, synchronizer, consolidated, chunk_store, storage_options, zarr_version, zarr_format)\u001b[39m\n\u001b[32m   1722\u001b[39m store_entrypoint = StoreBackendEntrypoint()\n\u001b[32m   1724\u001b[39m \u001b[38;5;28;01mwith\u001b[39;00m close_on_error(store):\n\u001b[32m-> \u001b[39m\u001b[32m1725\u001b[39m     group_ds = \u001b[43mstore_entrypoint\u001b[49m\u001b[43m.\u001b[49m\u001b[43mopen_dataset\u001b[49m\u001b[43m(\u001b[49m\n\u001b[32m   1726\u001b[39m \u001b[43m        \u001b[49m\u001b[43mstore\u001b[49m\u001b[43m,\u001b[49m\n\u001b[32m   1727\u001b[39m \u001b[43m        \u001b[49m\u001b[43mmask_and_scale\u001b[49m\u001b[43m=\u001b[49m\u001b[43mmask_and_scale\u001b[49m\u001b[43m,\u001b[49m\n\u001b[32m   1728\u001b[39m \u001b[43m        \u001b[49m\u001b[43mdecode_times\u001b[49m\u001b[43m=\u001b[49m\u001b[43mdecode_times\u001b[49m\u001b[43m,\u001b[49m\n\u001b[32m   1729\u001b[39m \u001b[43m        \u001b[49m\u001b[43mconcat_characters\u001b[49m\u001b[43m=\u001b[49m\u001b[43mconcat_characters\u001b[49m\u001b[43m,\u001b[49m\n\u001b[32m   1730\u001b[39m \u001b[43m        \u001b[49m\u001b[43mdecode_coords\u001b[49m\u001b[43m=\u001b[49m\u001b[43mdecode_coords\u001b[49m\u001b[43m,\u001b[49m\n\u001b[32m   1731\u001b[39m \u001b[43m        \u001b[49m\u001b[43mdrop_variables\u001b[49m\u001b[43m=\u001b[49m\u001b[43mdrop_variables\u001b[49m\u001b[43m,\u001b[49m\n\u001b[32m   1732\u001b[39m \u001b[43m        \u001b[49m\u001b[43muse_cftime\u001b[49m\u001b[43m=\u001b[49m\u001b[43muse_cftime\u001b[49m\u001b[43m,\u001b[49m\n\u001b[32m   1733\u001b[39m \u001b[43m        \u001b[49m\u001b[43mdecode_timedelta\u001b[49m\u001b[43m=\u001b[49m\u001b[43mdecode_timedelta\u001b[49m\u001b[43m,\u001b[49m\n\u001b[32m   1734\u001b[39m \u001b[43m    \u001b[49m\u001b[43m)\u001b[49m\n\u001b[32m   1735\u001b[39m \u001b[38;5;28;01mif\u001b[39;00m group:\n\u001b[32m   1736\u001b[39m     group_name = \u001b[38;5;28mstr\u001b[39m(NodePath(path_group).relative_to(parent))\n",
      "\u001b[36mFile \u001b[39m\u001b[32m~/micromamba/envs/xcube-eopf/lib/python3.13/site-packages/xarray/backends/store.py:59\u001b[39m, in \u001b[36mStoreBackendEntrypoint.open_dataset\u001b[39m\u001b[34m(self, filename_or_obj, mask_and_scale, decode_times, concat_characters, decode_coords, drop_variables, use_cftime, decode_timedelta)\u001b[39m\n\u001b[32m     45\u001b[39m encoding = filename_or_obj.get_encoding()\n\u001b[32m     47\u001b[39m \u001b[38;5;28mvars\u001b[39m, attrs, coord_names = conventions.decode_cf_variables(\n\u001b[32m     48\u001b[39m     \u001b[38;5;28mvars\u001b[39m,\n\u001b[32m     49\u001b[39m     attrs,\n\u001b[32m   (...)\u001b[39m\u001b[32m     56\u001b[39m     decode_timedelta=decode_timedelta,\n\u001b[32m     57\u001b[39m )\n\u001b[32m---> \u001b[39m\u001b[32m59\u001b[39m ds = \u001b[43mDataset\u001b[49m\u001b[43m(\u001b[49m\u001b[38;5;28;43mvars\u001b[39;49m\u001b[43m,\u001b[49m\u001b[43m \u001b[49m\u001b[43mattrs\u001b[49m\u001b[43m=\u001b[49m\u001b[43mattrs\u001b[49m\u001b[43m)\u001b[49m\n\u001b[32m     60\u001b[39m ds = ds.set_coords(coord_names.intersection(\u001b[38;5;28mvars\u001b[39m))\n\u001b[32m     61\u001b[39m ds.set_close(filename_or_obj.close)\n",
      "\u001b[36mFile \u001b[39m\u001b[32m~/micromamba/envs/xcube-eopf/lib/python3.13/site-packages/xarray/core/dataset.py:388\u001b[39m, in \u001b[36mDataset.__init__\u001b[39m\u001b[34m(self, data_vars, coords, attrs)\u001b[39m\n\u001b[32m    385\u001b[39m \u001b[38;5;28;01mif\u001b[39;00m \u001b[38;5;28misinstance\u001b[39m(coords, Dataset):\n\u001b[32m    386\u001b[39m     coords = coords._variables\n\u001b[32m--> \u001b[39m\u001b[32m388\u001b[39m variables, coord_names, dims, indexes, _ = \u001b[43mmerge_data_and_coords\u001b[49m\u001b[43m(\u001b[49m\n\u001b[32m    389\u001b[39m \u001b[43m    \u001b[49m\u001b[43mdata_vars\u001b[49m\u001b[43m,\u001b[49m\u001b[43m \u001b[49m\u001b[43mcoords\u001b[49m\n\u001b[32m    390\u001b[39m \u001b[43m\u001b[49m\u001b[43m)\u001b[49m\n\u001b[32m    392\u001b[39m \u001b[38;5;28mself\u001b[39m._attrs = \u001b[38;5;28mdict\u001b[39m(attrs) \u001b[38;5;28;01mif\u001b[39;00m attrs \u001b[38;5;28;01melse\u001b[39;00m \u001b[38;5;28;01mNone\u001b[39;00m\n\u001b[32m    393\u001b[39m \u001b[38;5;28mself\u001b[39m._close = \u001b[38;5;28;01mNone\u001b[39;00m\n",
      "\u001b[36mFile \u001b[39m\u001b[32m~/micromamba/envs/xcube-eopf/lib/python3.13/site-packages/xarray/structure/merge.py:1075\u001b[39m, in \u001b[36mmerge_data_and_coords\u001b[39m\u001b[34m(data_vars, coords)\u001b[39m\n\u001b[32m   1071\u001b[39m     coords = create_coords_with_default_indexes(coords, data_vars)\n\u001b[32m   1073\u001b[39m \u001b[38;5;66;03m# exclude coords from alignment (all variables in a Coordinates object should\u001b[39;00m\n\u001b[32m   1074\u001b[39m \u001b[38;5;66;03m# already be aligned together) and use coordinates' indexes to align data_vars\u001b[39;00m\n\u001b[32m-> \u001b[39m\u001b[32m1075\u001b[39m \u001b[38;5;28;01mreturn\u001b[39;00m \u001b[43mmerge_core\u001b[49m\u001b[43m(\u001b[49m\n\u001b[32m   1076\u001b[39m \u001b[43m    \u001b[49m\u001b[43m[\u001b[49m\u001b[43mdata_vars\u001b[49m\u001b[43m,\u001b[49m\u001b[43m \u001b[49m\u001b[43mcoords\u001b[49m\u001b[43m]\u001b[49m\u001b[43m,\u001b[49m\n\u001b[32m   1077\u001b[39m \u001b[43m    \u001b[49m\u001b[43mcompat\u001b[49m\u001b[43m=\u001b[49m\u001b[33;43m\"\u001b[39;49m\u001b[33;43mbroadcast_equals\u001b[39;49m\u001b[33;43m\"\u001b[39;49m\u001b[43m,\u001b[49m\n\u001b[32m   1078\u001b[39m \u001b[43m    \u001b[49m\u001b[43mjoin\u001b[49m\u001b[43m=\u001b[49m\u001b[33;43m\"\u001b[39;49m\u001b[33;43mouter\u001b[39;49m\u001b[33;43m\"\u001b[39;49m\u001b[43m,\u001b[49m\n\u001b[32m   1079\u001b[39m \u001b[43m    \u001b[49m\u001b[43mexplicit_coords\u001b[49m\u001b[43m=\u001b[49m\u001b[38;5;28;43mtuple\u001b[39;49m\u001b[43m(\u001b[49m\u001b[43mcoords\u001b[49m\u001b[43m)\u001b[49m\u001b[43m,\u001b[49m\n\u001b[32m   1080\u001b[39m \u001b[43m    \u001b[49m\u001b[43mindexes\u001b[49m\u001b[43m=\u001b[49m\u001b[43mcoords\u001b[49m\u001b[43m.\u001b[49m\u001b[43mxindexes\u001b[49m\u001b[43m,\u001b[49m\n\u001b[32m   1081\u001b[39m \u001b[43m    \u001b[49m\u001b[43mpriority_arg\u001b[49m\u001b[43m=\u001b[49m\u001b[32;43m1\u001b[39;49m\u001b[43m,\u001b[49m\n\u001b[32m   1082\u001b[39m \u001b[43m    \u001b[49m\u001b[43mskip_align_args\u001b[49m\u001b[43m=\u001b[49m\u001b[43m[\u001b[49m\u001b[32;43m1\u001b[39;49m\u001b[43m]\u001b[49m\u001b[43m,\u001b[49m\n\u001b[32m   1083\u001b[39m \u001b[43m\u001b[49m\u001b[43m)\u001b[49m\n",
      "\u001b[36mFile \u001b[39m\u001b[32m~/micromamba/envs/xcube-eopf/lib/python3.13/site-packages/xarray/structure/merge.py:700\u001b[39m, in \u001b[36mmerge_core\u001b[39m\u001b[34m(objects, compat, join, combine_attrs, priority_arg, explicit_coords, indexes, fill_value, skip_align_args)\u001b[39m\n\u001b[32m    697\u001b[39m \u001b[38;5;28;01mfor\u001b[39;00m pos, obj \u001b[38;5;129;01min\u001b[39;00m skip_align_objs:\n\u001b[32m    698\u001b[39m     aligned.insert(pos, obj)\n\u001b[32m--> \u001b[39m\u001b[32m700\u001b[39m collected = \u001b[43mcollect_variables_and_indexes\u001b[49m\u001b[43m(\u001b[49m\u001b[43maligned\u001b[49m\u001b[43m,\u001b[49m\u001b[43m \u001b[49m\u001b[43mindexes\u001b[49m\u001b[43m=\u001b[49m\u001b[43mindexes\u001b[49m\u001b[43m)\u001b[49m\n\u001b[32m    701\u001b[39m prioritized = _get_priority_vars_and_indexes(aligned, priority_arg, compat=compat)\n\u001b[32m    702\u001b[39m variables, out_indexes = merge_collected(\n\u001b[32m    703\u001b[39m     collected, prioritized, compat=compat, combine_attrs=combine_attrs\n\u001b[32m    704\u001b[39m )\n",
      "\u001b[36mFile \u001b[39m\u001b[32m~/micromamba/envs/xcube-eopf/lib/python3.13/site-packages/xarray/structure/merge.py:367\u001b[39m, in \u001b[36mcollect_variables_and_indexes\u001b[39m\u001b[34m(list_of_mappings, indexes)\u001b[39m\n\u001b[32m    365\u001b[39m     append(name, variable, indexes[name])\n\u001b[32m    366\u001b[39m \u001b[38;5;28;01melif\u001b[39;00m variable.dims == (name,):\n\u001b[32m--> \u001b[39m\u001b[32m367\u001b[39m     idx, idx_vars = \u001b[43mcreate_default_index_implicit\u001b[49m\u001b[43m(\u001b[49m\u001b[43mvariable\u001b[49m\u001b[43m)\u001b[49m\n\u001b[32m    368\u001b[39m     append_all(idx_vars, \u001b[38;5;28mdict\u001b[39m.fromkeys(idx_vars, idx))\n\u001b[32m    369\u001b[39m \u001b[38;5;28;01melse\u001b[39;00m:\n",
      "\u001b[36mFile \u001b[39m\u001b[32m~/micromamba/envs/xcube-eopf/lib/python3.13/site-packages/xarray/core/indexes.py:1574\u001b[39m, in \u001b[36mcreate_default_index_implicit\u001b[39m\u001b[34m(dim_variable, all_variables)\u001b[39m\n\u001b[32m   1572\u001b[39m \u001b[38;5;28;01melse\u001b[39;00m:\n\u001b[32m   1573\u001b[39m     dim_var = {name: dim_variable}\n\u001b[32m-> \u001b[39m\u001b[32m1574\u001b[39m     index = \u001b[43mPandasIndex\u001b[49m\u001b[43m.\u001b[49m\u001b[43mfrom_variables\u001b[49m\u001b[43m(\u001b[49m\u001b[43mdim_var\u001b[49m\u001b[43m,\u001b[49m\u001b[43m \u001b[49m\u001b[43moptions\u001b[49m\u001b[43m=\u001b[49m\u001b[43m{\u001b[49m\u001b[43m}\u001b[49m\u001b[43m)\u001b[49m\n\u001b[32m   1575\u001b[39m     index_vars = index.create_variables(dim_var)\n\u001b[32m   1577\u001b[39m \u001b[38;5;28;01mreturn\u001b[39;00m index, index_vars\n",
      "\u001b[36mFile \u001b[39m\u001b[32m~/micromamba/envs/xcube-eopf/lib/python3.13/site-packages/xarray/core/indexes.py:664\u001b[39m, in \u001b[36mPandasIndex.from_variables\u001b[39m\u001b[34m(cls, variables, options)\u001b[39m\n\u001b[32m    661\u001b[39m     \u001b[38;5;28;01mif\u001b[39;00m level \u001b[38;5;129;01mis\u001b[39;00m \u001b[38;5;129;01mnot\u001b[39;00m \u001b[38;5;28;01mNone\u001b[39;00m:\n\u001b[32m    662\u001b[39m         data = var._data.array.get_level_values(level)\n\u001b[32m--> \u001b[39m\u001b[32m664\u001b[39m obj = \u001b[38;5;28;43mcls\u001b[39;49m\u001b[43m(\u001b[49m\u001b[43mdata\u001b[49m\u001b[43m,\u001b[49m\u001b[43m \u001b[49m\u001b[43mdim\u001b[49m\u001b[43m,\u001b[49m\u001b[43m \u001b[49m\u001b[43mcoord_dtype\u001b[49m\u001b[43m=\u001b[49m\u001b[43mvar\u001b[49m\u001b[43m.\u001b[49m\u001b[43mdtype\u001b[49m\u001b[43m)\u001b[49m\n\u001b[32m    665\u001b[39m \u001b[38;5;28;01massert\u001b[39;00m \u001b[38;5;129;01mnot\u001b[39;00m \u001b[38;5;28misinstance\u001b[39m(obj.index, pd.MultiIndex)\n\u001b[32m    666\u001b[39m \u001b[38;5;66;03m# Rename safely\u001b[39;00m\n\u001b[32m    667\u001b[39m \u001b[38;5;66;03m# make a shallow copy: cheap and because the index name may be updated\u001b[39;00m\n\u001b[32m    668\u001b[39m \u001b[38;5;66;03m# here or in other constructors (cannot use pd.Index.rename as this\u001b[39;00m\n\u001b[32m    669\u001b[39m \u001b[38;5;66;03m# constructor is also called from PandasMultiIndex)\u001b[39;00m\n",
      "\u001b[36mFile \u001b[39m\u001b[32m~/micromamba/envs/xcube-eopf/lib/python3.13/site-packages/xarray/core/indexes.py:595\u001b[39m, in \u001b[36mPandasIndex.__init__\u001b[39m\u001b[34m(self, array, dim, coord_dtype, fastpath)\u001b[39m\n\u001b[32m    593\u001b[39m     index = array\n\u001b[32m    594\u001b[39m \u001b[38;5;28;01melse\u001b[39;00m:\n\u001b[32m--> \u001b[39m\u001b[32m595\u001b[39m     index = \u001b[43msafe_cast_to_index\u001b[49m\u001b[43m(\u001b[49m\u001b[43marray\u001b[49m\u001b[43m)\u001b[49m\n\u001b[32m    597\u001b[39m \u001b[38;5;28;01mif\u001b[39;00m index.name \u001b[38;5;129;01mis\u001b[39;00m \u001b[38;5;28;01mNone\u001b[39;00m:\n\u001b[32m    598\u001b[39m     \u001b[38;5;66;03m# make a shallow copy: cheap and because the index name may be updated\u001b[39;00m\n\u001b[32m    599\u001b[39m     \u001b[38;5;66;03m# here or in other constructors (cannot use pd.Index.rename as this\u001b[39;00m\n\u001b[32m    600\u001b[39m     \u001b[38;5;66;03m# constructor is also called from PandasMultiIndex)\u001b[39;00m\n\u001b[32m    601\u001b[39m     index = index.copy()\n",
      "\u001b[36mFile \u001b[39m\u001b[32m~/micromamba/envs/xcube-eopf/lib/python3.13/site-packages/xarray/core/indexes.py:475\u001b[39m, in \u001b[36msafe_cast_to_index\u001b[39m\u001b[34m(array)\u001b[39m\n\u001b[32m    465\u001b[39m             emit_user_level_warning(\n\u001b[32m    466\u001b[39m                 (\n\u001b[32m    467\u001b[39m                     \u001b[33m\"\u001b[39m\u001b[33m`pandas.Index` does not support the `float16` dtype.\u001b[39m\u001b[33m\"\u001b[39m\n\u001b[32m   (...)\u001b[39m\u001b[32m    471\u001b[39m                 category=\u001b[38;5;167;01mDeprecationWarning\u001b[39;00m,\n\u001b[32m    472\u001b[39m             )\n\u001b[32m    473\u001b[39m             kwargs[\u001b[33m\"\u001b[39m\u001b[33mdtype\u001b[39m\u001b[33m\"\u001b[39m] = \u001b[33m\"\u001b[39m\u001b[33mfloat64\u001b[39m\u001b[33m\"\u001b[39m\n\u001b[32m--> \u001b[39m\u001b[32m475\u001b[39m     index = pd.Index(\u001b[43mto_numpy\u001b[49m\u001b[43m(\u001b[49m\u001b[43marray\u001b[49m\u001b[43m)\u001b[49m, **kwargs)\n\u001b[32m    477\u001b[39m \u001b[38;5;28;01mreturn\u001b[39;00m _maybe_cast_to_cftimeindex(index)\n",
      "\u001b[36mFile \u001b[39m\u001b[32m~/micromamba/envs/xcube-eopf/lib/python3.13/site-packages/xarray/namedarray/pycompat.py:112\u001b[39m, in \u001b[36mto_numpy\u001b[39m\u001b[34m(data, **kwargs)\u001b[39m\n\u001b[32m    109\u001b[39m     \u001b[38;5;28;01mpass\u001b[39;00m\n\u001b[32m    111\u001b[39m \u001b[38;5;28;01mif\u001b[39;00m \u001b[38;5;28misinstance\u001b[39m(data, ExplicitlyIndexed):\n\u001b[32m--> \u001b[39m\u001b[32m112\u001b[39m     data = \u001b[43mdata\u001b[49m\u001b[43m.\u001b[49m\u001b[43mget_duck_array\u001b[49m\u001b[43m(\u001b[49m\u001b[43m)\u001b[49m  \u001b[38;5;66;03m# type: ignore[no-untyped-call]\u001b[39;00m\n\u001b[32m    114\u001b[39m \u001b[38;5;66;03m# TODO first attempt to call .to_numpy() once some libraries implement it\u001b[39;00m\n\u001b[32m    115\u001b[39m \u001b[38;5;28;01mif\u001b[39;00m is_chunked_array(data):\n",
      "\u001b[36mFile \u001b[39m\u001b[32m~/micromamba/envs/xcube-eopf/lib/python3.13/site-packages/xarray/backends/common.py:275\u001b[39m, in \u001b[36mBackendArray.get_duck_array\u001b[39m\u001b[34m(self, dtype)\u001b[39m\n\u001b[32m    273\u001b[39m \u001b[38;5;28;01mdef\u001b[39;00m\u001b[38;5;250m \u001b[39m\u001b[34mget_duck_array\u001b[39m(\u001b[38;5;28mself\u001b[39m, dtype: np.typing.DTypeLike = \u001b[38;5;28;01mNone\u001b[39;00m):\n\u001b[32m    274\u001b[39m     key = indexing.BasicIndexer((\u001b[38;5;28mslice\u001b[39m(\u001b[38;5;28;01mNone\u001b[39;00m),) * \u001b[38;5;28mself\u001b[39m.ndim)\n\u001b[32m--> \u001b[39m\u001b[32m275\u001b[39m     \u001b[38;5;28;01mreturn\u001b[39;00m \u001b[38;5;28;43mself\u001b[39;49m\u001b[43m[\u001b[49m\u001b[43mkey\u001b[49m\u001b[43m]\u001b[49m\n",
      "\u001b[36mFile \u001b[39m\u001b[32m~/micromamba/envs/xcube-eopf/lib/python3.13/site-packages/xarray/backends/zarr.py:223\u001b[39m, in \u001b[36mZarrArrayWrapper.__getitem__\u001b[39m\u001b[34m(self, key)\u001b[39m\n\u001b[32m    221\u001b[39m \u001b[38;5;28;01melif\u001b[39;00m \u001b[38;5;28misinstance\u001b[39m(key, indexing.OuterIndexer):\n\u001b[32m    222\u001b[39m     method = \u001b[38;5;28mself\u001b[39m._oindex\n\u001b[32m--> \u001b[39m\u001b[32m223\u001b[39m \u001b[38;5;28;01mreturn\u001b[39;00m \u001b[43mindexing\u001b[49m\u001b[43m.\u001b[49m\u001b[43mexplicit_indexing_adapter\u001b[49m\u001b[43m(\u001b[49m\n\u001b[32m    224\u001b[39m \u001b[43m    \u001b[49m\u001b[43mkey\u001b[49m\u001b[43m,\u001b[49m\u001b[43m \u001b[49m\u001b[43marray\u001b[49m\u001b[43m.\u001b[49m\u001b[43mshape\u001b[49m\u001b[43m,\u001b[49m\u001b[43m \u001b[49m\u001b[43mindexing\u001b[49m\u001b[43m.\u001b[49m\u001b[43mIndexingSupport\u001b[49m\u001b[43m.\u001b[49m\u001b[43mVECTORIZED\u001b[49m\u001b[43m,\u001b[49m\u001b[43m \u001b[49m\u001b[43mmethod\u001b[49m\n\u001b[32m    225\u001b[39m \u001b[43m\u001b[49m\u001b[43m)\u001b[49m\n",
      "\u001b[36mFile \u001b[39m\u001b[32m~/micromamba/envs/xcube-eopf/lib/python3.13/site-packages/xarray/core/indexing.py:1015\u001b[39m, in \u001b[36mexplicit_indexing_adapter\u001b[39m\u001b[34m(key, shape, indexing_support, raw_indexing_method)\u001b[39m\n\u001b[32m    993\u001b[39m \u001b[38;5;250m\u001b[39m\u001b[33;03m\"\"\"Support explicit indexing by delegating to a raw indexing method.\u001b[39;00m\n\u001b[32m    994\u001b[39m \n\u001b[32m    995\u001b[39m \u001b[33;03mOuter and/or vectorized indexers are supported by indexing a second time\u001b[39;00m\n\u001b[32m   (...)\u001b[39m\u001b[32m   1012\u001b[39m \u001b[33;03mIndexing result, in the form of a duck numpy-array.\u001b[39;00m\n\u001b[32m   1013\u001b[39m \u001b[33;03m\"\"\"\u001b[39;00m\n\u001b[32m   1014\u001b[39m raw_key, numpy_indices = decompose_indexer(key, shape, indexing_support)\n\u001b[32m-> \u001b[39m\u001b[32m1015\u001b[39m result = \u001b[43mraw_indexing_method\u001b[49m\u001b[43m(\u001b[49m\u001b[43mraw_key\u001b[49m\u001b[43m.\u001b[49m\u001b[43mtuple\u001b[49m\u001b[43m)\u001b[49m\n\u001b[32m   1016\u001b[39m \u001b[38;5;28;01mif\u001b[39;00m numpy_indices.tuple:\n\u001b[32m   1017\u001b[39m     \u001b[38;5;66;03m# index the loaded duck array\u001b[39;00m\n\u001b[32m   1018\u001b[39m     indexable = as_indexable(result)\n",
      "\u001b[36mFile \u001b[39m\u001b[32m~/micromamba/envs/xcube-eopf/lib/python3.13/site-packages/xarray/backends/zarr.py:213\u001b[39m, in \u001b[36mZarrArrayWrapper._getitem\u001b[39m\u001b[34m(self, key)\u001b[39m\n\u001b[32m    212\u001b[39m \u001b[38;5;28;01mdef\u001b[39;00m\u001b[38;5;250m \u001b[39m\u001b[34m_getitem\u001b[39m(\u001b[38;5;28mself\u001b[39m, key):\n\u001b[32m--> \u001b[39m\u001b[32m213\u001b[39m     \u001b[38;5;28;01mreturn\u001b[39;00m \u001b[38;5;28;43mself\u001b[39;49m\u001b[43m.\u001b[49m\u001b[43m_array\u001b[49m\u001b[43m[\u001b[49m\u001b[43mkey\u001b[49m\u001b[43m]\u001b[49m\n",
      "\u001b[36mFile \u001b[39m\u001b[32m~/micromamba/envs/xcube-eopf/lib/python3.13/site-packages/zarr/core.py:799\u001b[39m, in \u001b[36mArray.__getitem__\u001b[39m\u001b[34m(self, selection)\u001b[39m\n\u001b[32m    797\u001b[39m     result = \u001b[38;5;28mself\u001b[39m.get_orthogonal_selection(pure_selection, fields=fields)\n\u001b[32m    798\u001b[39m \u001b[38;5;28;01melse\u001b[39;00m:\n\u001b[32m--> \u001b[39m\u001b[32m799\u001b[39m     result = \u001b[38;5;28;43mself\u001b[39;49m\u001b[43m.\u001b[49m\u001b[43mget_basic_selection\u001b[49m\u001b[43m(\u001b[49m\u001b[43mpure_selection\u001b[49m\u001b[43m,\u001b[49m\u001b[43m \u001b[49m\u001b[43mfields\u001b[49m\u001b[43m=\u001b[49m\u001b[43mfields\u001b[49m\u001b[43m)\u001b[49m\n\u001b[32m    800\u001b[39m \u001b[38;5;28;01mreturn\u001b[39;00m result\n",
      "\u001b[36mFile \u001b[39m\u001b[32m~/micromamba/envs/xcube-eopf/lib/python3.13/site-packages/zarr/core.py:925\u001b[39m, in \u001b[36mArray.get_basic_selection\u001b[39m\u001b[34m(self, selection, out, fields)\u001b[39m\n\u001b[32m    923\u001b[39m     \u001b[38;5;28;01mreturn\u001b[39;00m \u001b[38;5;28mself\u001b[39m._get_basic_selection_zd(selection=selection, out=out, fields=fields)\n\u001b[32m    924\u001b[39m \u001b[38;5;28;01melse\u001b[39;00m:\n\u001b[32m--> \u001b[39m\u001b[32m925\u001b[39m     \u001b[38;5;28;01mreturn\u001b[39;00m \u001b[38;5;28;43mself\u001b[39;49m\u001b[43m.\u001b[49m\u001b[43m_get_basic_selection_nd\u001b[49m\u001b[43m(\u001b[49m\u001b[43mselection\u001b[49m\u001b[43m=\u001b[49m\u001b[43mselection\u001b[49m\u001b[43m,\u001b[49m\u001b[43m \u001b[49m\u001b[43mout\u001b[49m\u001b[43m=\u001b[49m\u001b[43mout\u001b[49m\u001b[43m,\u001b[49m\u001b[43m \u001b[49m\u001b[43mfields\u001b[49m\u001b[43m=\u001b[49m\u001b[43mfields\u001b[49m\u001b[43m)\u001b[49m\n",
      "\u001b[36mFile \u001b[39m\u001b[32m~/micromamba/envs/xcube-eopf/lib/python3.13/site-packages/zarr/core.py:967\u001b[39m, in \u001b[36mArray._get_basic_selection_nd\u001b[39m\u001b[34m(self, selection, out, fields)\u001b[39m\n\u001b[32m    961\u001b[39m \u001b[38;5;28;01mdef\u001b[39;00m\u001b[38;5;250m \u001b[39m\u001b[34m_get_basic_selection_nd\u001b[39m(\u001b[38;5;28mself\u001b[39m, selection, out=\u001b[38;5;28;01mNone\u001b[39;00m, fields=\u001b[38;5;28;01mNone\u001b[39;00m):\n\u001b[32m    962\u001b[39m     \u001b[38;5;66;03m# implementation of basic selection for array with at least one dimension\u001b[39;00m\n\u001b[32m    963\u001b[39m \n\u001b[32m    964\u001b[39m     \u001b[38;5;66;03m# setup indexer\u001b[39;00m\n\u001b[32m    965\u001b[39m     indexer = BasicIndexer(selection, \u001b[38;5;28mself\u001b[39m)\n\u001b[32m--> \u001b[39m\u001b[32m967\u001b[39m     \u001b[38;5;28;01mreturn\u001b[39;00m \u001b[38;5;28;43mself\u001b[39;49m\u001b[43m.\u001b[49m\u001b[43m_get_selection\u001b[49m\u001b[43m(\u001b[49m\u001b[43mindexer\u001b[49m\u001b[43m=\u001b[49m\u001b[43mindexer\u001b[49m\u001b[43m,\u001b[49m\u001b[43m \u001b[49m\u001b[43mout\u001b[49m\u001b[43m=\u001b[49m\u001b[43mout\u001b[49m\u001b[43m,\u001b[49m\u001b[43m \u001b[49m\u001b[43mfields\u001b[49m\u001b[43m=\u001b[49m\u001b[43mfields\u001b[49m\u001b[43m)\u001b[49m\n",
      "\u001b[36mFile \u001b[39m\u001b[32m~/micromamba/envs/xcube-eopf/lib/python3.13/site-packages/zarr/core.py:1342\u001b[39m, in \u001b[36mArray._get_selection\u001b[39m\u001b[34m(self, indexer, out, fields)\u001b[39m\n\u001b[32m   1339\u001b[39m \u001b[38;5;28;01mif\u001b[39;00m math.prod(out_shape) > \u001b[32m0\u001b[39m:\n\u001b[32m   1340\u001b[39m     \u001b[38;5;66;03m# allow storage to get multiple items at once\u001b[39;00m\n\u001b[32m   1341\u001b[39m     lchunk_coords, lchunk_selection, lout_selection = \u001b[38;5;28mzip\u001b[39m(*indexer)\n\u001b[32m-> \u001b[39m\u001b[32m1342\u001b[39m     \u001b[38;5;28;43mself\u001b[39;49m\u001b[43m.\u001b[49m\u001b[43m_chunk_getitems\u001b[49m\u001b[43m(\u001b[49m\n\u001b[32m   1343\u001b[39m \u001b[43m        \u001b[49m\u001b[43mlchunk_coords\u001b[49m\u001b[43m,\u001b[49m\n\u001b[32m   1344\u001b[39m \u001b[43m        \u001b[49m\u001b[43mlchunk_selection\u001b[49m\u001b[43m,\u001b[49m\n\u001b[32m   1345\u001b[39m \u001b[43m        \u001b[49m\u001b[43mout\u001b[49m\u001b[43m,\u001b[49m\n\u001b[32m   1346\u001b[39m \u001b[43m        \u001b[49m\u001b[43mlout_selection\u001b[49m\u001b[43m,\u001b[49m\n\u001b[32m   1347\u001b[39m \u001b[43m        \u001b[49m\u001b[43mdrop_axes\u001b[49m\u001b[43m=\u001b[49m\u001b[43mindexer\u001b[49m\u001b[43m.\u001b[49m\u001b[43mdrop_axes\u001b[49m\u001b[43m,\u001b[49m\n\u001b[32m   1348\u001b[39m \u001b[43m        \u001b[49m\u001b[43mfields\u001b[49m\u001b[43m=\u001b[49m\u001b[43mfields\u001b[49m\u001b[43m,\u001b[49m\n\u001b[32m   1349\u001b[39m \u001b[43m    \u001b[49m\u001b[43m)\u001b[49m\n\u001b[32m   1350\u001b[39m \u001b[38;5;28;01mif\u001b[39;00m out.shape:\n\u001b[32m   1351\u001b[39m     \u001b[38;5;28;01mreturn\u001b[39;00m out\n",
      "\u001b[36mFile \u001b[39m\u001b[32m~/micromamba/envs/xcube-eopf/lib/python3.13/site-packages/zarr/core.py:2183\u001b[39m, in \u001b[36mArray._chunk_getitems\u001b[39m\u001b[34m(self, lchunk_coords, lchunk_selection, out, lout_selection, drop_axes, fields)\u001b[39m\n\u001b[32m   2181\u001b[39m     \u001b[38;5;28;01mif\u001b[39;00m \u001b[38;5;129;01mnot\u001b[39;00m \u001b[38;5;28misinstance\u001b[39m(\u001b[38;5;28mself\u001b[39m._meta_array, np.ndarray):\n\u001b[32m   2182\u001b[39m         contexts = ConstantMap(ckeys, constant=Context(meta_array=\u001b[38;5;28mself\u001b[39m._meta_array))\n\u001b[32m-> \u001b[39m\u001b[32m2183\u001b[39m     cdatas = \u001b[38;5;28;43mself\u001b[39;49m\u001b[43m.\u001b[49m\u001b[43mchunk_store\u001b[49m\u001b[43m.\u001b[49m\u001b[43mgetitems\u001b[49m\u001b[43m(\u001b[49m\u001b[43mckeys\u001b[49m\u001b[43m,\u001b[49m\u001b[43m \u001b[49m\u001b[43mcontexts\u001b[49m\u001b[43m=\u001b[49m\u001b[43mcontexts\u001b[49m\u001b[43m)\u001b[49m\n\u001b[32m   2185\u001b[39m \u001b[38;5;28;01mfor\u001b[39;00m ckey, chunk_select, out_select \u001b[38;5;129;01min\u001b[39;00m \u001b[38;5;28mzip\u001b[39m(ckeys, lchunk_selection, lout_selection):\n\u001b[32m   2186\u001b[39m     \u001b[38;5;28;01mif\u001b[39;00m ckey \u001b[38;5;129;01min\u001b[39;00m cdatas:\n",
      "\u001b[36mFile \u001b[39m\u001b[32m~/micromamba/envs/xcube-eopf/lib/python3.13/site-packages/zarr/storage.py:1435\u001b[39m, in \u001b[36mFSStore.getitems\u001b[39m\u001b[34m(self, keys, contexts)\u001b[39m\n\u001b[32m   1432\u001b[39m     \u001b[38;5;28;01mcontinue\u001b[39;00m\n\u001b[32m   1433\u001b[39m \u001b[38;5;28;01melif\u001b[39;00m \u001b[38;5;28misinstance\u001b[39m(v, \u001b[38;5;167;01mException\u001b[39;00m):\n\u001b[32m   1434\u001b[39m     \u001b[38;5;66;03m# Raise any other exception\u001b[39;00m\n\u001b[32m-> \u001b[39m\u001b[32m1435\u001b[39m     \u001b[38;5;28;01mraise\u001b[39;00m v\n\u001b[32m   1436\u001b[39m \u001b[38;5;28;01melse\u001b[39;00m:\n\u001b[32m   1437\u001b[39m     \u001b[38;5;66;03m# The function calling this method may not recognize the transformed\u001b[39;00m\n\u001b[32m   1438\u001b[39m     \u001b[38;5;66;03m# keys, so we send the values returned by self.map.getitems back into\u001b[39;00m\n\u001b[32m   1439\u001b[39m     \u001b[38;5;66;03m# the original key space.\u001b[39;00m\n\u001b[32m   1440\u001b[39m     results[keys_transformed[k]] = v\n",
      "\u001b[36mFile \u001b[39m\u001b[32m~/micromamba/envs/xcube-eopf/lib/python3.13/site-packages/fsspec/asyn.py:257\u001b[39m, in \u001b[36m_run_coros_in_chunks.<locals>._run_coro\u001b[39m\u001b[34m(coro, i)\u001b[39m\n\u001b[32m    255\u001b[39m \u001b[38;5;28;01masync\u001b[39;00m \u001b[38;5;28;01mdef\u001b[39;00m\u001b[38;5;250m \u001b[39m\u001b[34m_run_coro\u001b[39m(coro, i):\n\u001b[32m    256\u001b[39m     \u001b[38;5;28;01mtry\u001b[39;00m:\n\u001b[32m--> \u001b[39m\u001b[32m257\u001b[39m         \u001b[38;5;28;01mreturn\u001b[39;00m \u001b[38;5;28;01mawait\u001b[39;00m asyncio.wait_for(coro, timeout=timeout), i\n\u001b[32m    258\u001b[39m     \u001b[38;5;28;01mexcept\u001b[39;00m \u001b[38;5;167;01mException\u001b[39;00m \u001b[38;5;28;01mas\u001b[39;00m e:\n\u001b[32m    259\u001b[39m         \u001b[38;5;28;01mif\u001b[39;00m \u001b[38;5;129;01mnot\u001b[39;00m return_exceptions:\n",
      "\u001b[36mFile \u001b[39m\u001b[32m~/micromamba/envs/xcube-eopf/lib/python3.13/asyncio/tasks.py:507\u001b[39m, in \u001b[36mwait_for\u001b[39m\u001b[34m(fut, timeout)\u001b[39m\n\u001b[32m    504\u001b[39m         \u001b[38;5;28;01mraise\u001b[39;00m \u001b[38;5;167;01mTimeoutError\u001b[39;00m \u001b[38;5;28;01mfrom\u001b[39;00m\u001b[38;5;250m \u001b[39m\u001b[34;01mexc\u001b[39;00m\n\u001b[32m    506\u001b[39m \u001b[38;5;28;01masync\u001b[39;00m \u001b[38;5;28;01mwith\u001b[39;00m timeouts.timeout(timeout):\n\u001b[32m--> \u001b[39m\u001b[32m507\u001b[39m     \u001b[38;5;28;01mreturn\u001b[39;00m \u001b[38;5;28;01mawait\u001b[39;00m fut\n",
      "\u001b[36mFile \u001b[39m\u001b[32m~/micromamba/envs/xcube-eopf/lib/python3.13/site-packages/fsspec/implementations/http.py:236\u001b[39m, in \u001b[36mHTTPFileSystem._cat_file\u001b[39m\u001b[34m(self, url, start, end, **kwargs)\u001b[39m\n\u001b[32m    234\u001b[39m \u001b[38;5;28;01masync\u001b[39;00m \u001b[38;5;28;01mwith\u001b[39;00m session.get(\u001b[38;5;28mself\u001b[39m.encode_url(url), **kw) \u001b[38;5;28;01mas\u001b[39;00m r:\n\u001b[32m    235\u001b[39m     out = \u001b[38;5;28;01mawait\u001b[39;00m r.read()\n\u001b[32m--> \u001b[39m\u001b[32m236\u001b[39m     \u001b[38;5;28;43mself\u001b[39;49m\u001b[43m.\u001b[49m\u001b[43m_raise_not_found_for_status\u001b[49m\u001b[43m(\u001b[49m\u001b[43mr\u001b[49m\u001b[43m,\u001b[49m\u001b[43m \u001b[49m\u001b[43murl\u001b[49m\u001b[43m)\u001b[49m\n\u001b[32m    237\u001b[39m \u001b[38;5;28;01mreturn\u001b[39;00m out\n",
      "\u001b[36mFile \u001b[39m\u001b[32m~/micromamba/envs/xcube-eopf/lib/python3.13/site-packages/fsspec/implementations/http.py:219\u001b[39m, in \u001b[36mHTTPFileSystem._raise_not_found_for_status\u001b[39m\u001b[34m(self, response, url)\u001b[39m\n\u001b[32m    217\u001b[39m \u001b[38;5;28;01mif\u001b[39;00m response.status == \u001b[32m404\u001b[39m:\n\u001b[32m    218\u001b[39m     \u001b[38;5;28;01mraise\u001b[39;00m \u001b[38;5;167;01mFileNotFoundError\u001b[39;00m(url)\n\u001b[32m--> \u001b[39m\u001b[32m219\u001b[39m \u001b[43mresponse\u001b[49m\u001b[43m.\u001b[49m\u001b[43mraise_for_status\u001b[49m\u001b[43m(\u001b[49m\u001b[43m)\u001b[49m\n",
      "\u001b[36mFile \u001b[39m\u001b[32m~/micromamba/envs/xcube-eopf/lib/python3.13/site-packages/aiohttp/client_reqrep.py:625\u001b[39m, in \u001b[36mClientResponse.raise_for_status\u001b[39m\u001b[34m(self)\u001b[39m\n\u001b[32m    622\u001b[39m \u001b[38;5;28;01mif\u001b[39;00m \u001b[38;5;129;01mnot\u001b[39;00m \u001b[38;5;28mself\u001b[39m._in_context:\n\u001b[32m    623\u001b[39m     \u001b[38;5;28mself\u001b[39m.release()\n\u001b[32m--> \u001b[39m\u001b[32m625\u001b[39m \u001b[38;5;28;01mraise\u001b[39;00m ClientResponseError(\n\u001b[32m    626\u001b[39m     \u001b[38;5;28mself\u001b[39m.request_info,\n\u001b[32m    627\u001b[39m     \u001b[38;5;28mself\u001b[39m.history,\n\u001b[32m    628\u001b[39m     status=\u001b[38;5;28mself\u001b[39m.status,\n\u001b[32m    629\u001b[39m     message=\u001b[38;5;28mself\u001b[39m.reason,\n\u001b[32m    630\u001b[39m     headers=\u001b[38;5;28mself\u001b[39m.headers,\n\u001b[32m    631\u001b[39m )\n",
      "\u001b[31mClientResponseError\u001b[39m: 504, message='Gateway Time-out', url='https://objectstore.eodc.eu:2222/e05ab01a9d56408d82ac32d69a5aae2a:202505-s02msil2a/01/products/cpm_v256/S2C_MSIL2A_20250501T104041_N0511_R008_T32UNE_20250501T161558.zarr/measurements/reflectance/r10m/y/0'"
     ]
    }
   ],
   "source": [
    "%%time\n",
    "ds = store.open_data(\n",
    "    data_id=\"sentinel-2-l2a\",\n",
    "    bbox=bbox_utm,\n",
    "    time_range=[\"2025-05-01\", \"2025-05-15\"],\n",
    "    spatial_res=10,\n",
    "    crs=crs_target,\n",
    "    variables=[\"b02\", \"b03\", \"b04\", \"scl\"],\n",
    ")\n",
    "ds"
   ]
  },
  {
   "cell_type": "code",
   "execution_count": 10,
   "metadata": {},
   "outputs": [
    {
     "ename": "NameError",
     "evalue": "name 'ds' is not defined",
     "output_type": "error",
     "traceback": [
      "\u001b[31m---------------------------------------------------------------------------\u001b[39m",
      "\u001b[31mNameError\u001b[39m                                 Traceback (most recent call last)",
      "\u001b[36mFile \u001b[39m\u001b[32m<timed eval>:1\u001b[39m\n",
      "\u001b[31mNameError\u001b[39m: name 'ds' is not defined"
     ]
    }
   ],
   "source": [
    "%%time\n",
    "ds.b04.isel(time=0)[::10, ::10].plot(vmin=0, vmax=0.2)"
   ]
  },
  {
   "cell_type": "markdown",
   "metadata": {},
   "source": [
    "Now wecan request the same data cube but in geographic projection (`\"EPSG:4326\"`). xcube-eopf can reproject the datacube to any projection requested by the user. "
   ]
  },
  {
   "cell_type": "code",
   "execution_count": 11,
   "metadata": {},
   "outputs": [
    {
     "ename": "ClientResponseError",
     "evalue": "504, message='Gateway Time-out', url='https://objectstore.eodc.eu:2222/e05ab01a9d56408d82ac32d69a5aae2a:202505-s02msil2a/01/products/cpm_v256/S2C_MSIL2A_20250501T104041_N0511_R008_T32UNE_20250501T161558.zarr/measurements/reflectance/r10m/y/0'",
     "output_type": "error",
     "traceback": [
      "\u001b[31m---------------------------------------------------------------------------\u001b[39m",
      "\u001b[31mClientResponseError\u001b[39m                       Traceback (most recent call last)",
      "\u001b[36mFile \u001b[39m\u001b[32m<timed exec>:1\u001b[39m\n",
      "\u001b[36mFile \u001b[39m\u001b[32m~/micromamba/envs/xcube-eopf/lib/python3.13/site-packages/xcube_eopf/store.py:106\u001b[39m, in \u001b[36mEOPFZarrDataStore.open_data\u001b[39m\u001b[34m(self, data_id, opener_id, data_type, **open_params)\u001b[39m\n\u001b[32m    104\u001b[39m \u001b[38;5;28mself\u001b[39m._assert_valid_opener_id(opener_id)\n\u001b[32m    105\u001b[39m product_handler = ProductHandler.guess(data_id)\n\u001b[32m--> \u001b[39m\u001b[32m106\u001b[39m \u001b[38;5;28;01mreturn\u001b[39;00m \u001b[43mproduct_handler\u001b[49m\u001b[43m.\u001b[49m\u001b[43mopen_data\u001b[49m\u001b[43m(\u001b[49m\u001b[43m*\u001b[49m\u001b[43m*\u001b[49m\u001b[43mopen_params\u001b[49m\u001b[43m)\u001b[49m\n",
      "\u001b[36mFile \u001b[39m\u001b[32m~/micromamba/envs/xcube-eopf/lib/python3.13/site-packages/xcube_eopf/prodhandlers/sentinel2.py:89\u001b[39m, in \u001b[36mSen2ProductHandler.open_data\u001b[39m\u001b[34m(self, **open_params)\u001b[39m\n\u001b[32m     86\u001b[39m grouped_items = group_items(items)\n\u001b[32m     88\u001b[39m \u001b[38;5;66;03m# generate cube by mosaicking and stacking tiles\u001b[39;00m\n\u001b[32m---> \u001b[39m\u001b[32m89\u001b[39m ds = \u001b[43mgenerate_cube\u001b[49m\u001b[43m(\u001b[49m\u001b[43mgrouped_items\u001b[49m\u001b[43m,\u001b[49m\u001b[43m \u001b[49m\u001b[43m*\u001b[49m\u001b[43m*\u001b[49m\u001b[43mopen_params\u001b[49m\u001b[43m)\u001b[49m\n\u001b[32m     91\u001b[39m \u001b[38;5;66;03m# add attributes\u001b[39;00m\n\u001b[32m     92\u001b[39m ds = add_attributes(ds, grouped_items, **open_params)\n",
      "\u001b[36mFile \u001b[39m\u001b[32m~/micromamba/envs/xcube-eopf/lib/python3.13/site-packages/xcube_eopf/prodhandlers/sentinel2.py:213\u001b[39m, in \u001b[36mgenerate_cube\u001b[39m\u001b[34m(grouped_items, **open_params)\u001b[39m\n\u001b[32m    211\u001b[39m list_ds_utm = []\n\u001b[32m    212\u001b[39m \u001b[38;5;28;01mfor\u001b[39;00m crs, tile_ids \u001b[38;5;129;01min\u001b[39;00m utm_tile_id.items():\n\u001b[32m--> \u001b[39m\u001b[32m213\u001b[39m     ds = \u001b[43m_generate_utm_cube\u001b[49m\u001b[43m(\u001b[49m\u001b[43mgrouped_items\u001b[49m\u001b[43m.\u001b[49m\u001b[43msel\u001b[49m\u001b[43m(\u001b[49m\u001b[43mtile_id\u001b[49m\u001b[43m=\u001b[49m\u001b[43mtile_ids\u001b[49m\u001b[43m)\u001b[49m\u001b[43m,\u001b[49m\u001b[43m \u001b[49m\u001b[43mcrs\u001b[49m\u001b[43m,\u001b[49m\u001b[43m \u001b[49m\u001b[43m*\u001b[49m\u001b[43m*\u001b[49m\u001b[43mopen_params\u001b[49m\u001b[43m)\u001b[49m\n\u001b[32m    214\u001b[39m     list_ds_utm.append(ds)\n\u001b[32m    216\u001b[39m \u001b[38;5;66;03m# Reproject datasets from different UTM zones to a common grid reference system\u001b[39;00m\n\u001b[32m    217\u001b[39m \u001b[38;5;66;03m# and merge them into a single unified dataset for seamless spatial analysis.\u001b[39;00m\n",
      "\u001b[36mFile \u001b[39m\u001b[32m~/micromamba/envs/xcube-eopf/lib/python3.13/site-packages/xcube_eopf/prodhandlers/sentinel2.py:300\u001b[39m, in \u001b[36m_generate_utm_cube\u001b[39m\u001b[34m(grouped_items, crs_utm, **open_params)\u001b[39m\n\u001b[32m    298\u001b[39m multi_tiles = []\n\u001b[32m    299\u001b[39m \u001b[38;5;28;01mfor\u001b[39;00m item \u001b[38;5;129;01min\u001b[39;00m items:\n\u001b[32m--> \u001b[39m\u001b[32m300\u001b[39m     ds = \u001b[43mxr\u001b[49m\u001b[43m.\u001b[49m\u001b[43mopen_dataset\u001b[49m\u001b[43m(\u001b[49m\n\u001b[32m    301\u001b[39m \u001b[43m        \u001b[49m\u001b[43mitem\u001b[49m\u001b[43m.\u001b[49m\u001b[43massets\u001b[49m\u001b[43m[\u001b[49m\u001b[33;43m\"\u001b[39;49m\u001b[33;43mproduct\u001b[39;49m\u001b[33;43m\"\u001b[39;49m\u001b[43m]\u001b[49m\u001b[43m.\u001b[49m\u001b[43mhref\u001b[49m\u001b[43m,\u001b[49m\n\u001b[32m    302\u001b[39m \u001b[43m        \u001b[49m\u001b[43mengine\u001b[49m\u001b[43m=\u001b[49m\u001b[33;43m\"\u001b[39;49m\u001b[33;43meopf-zarr\u001b[39;49m\u001b[33;43m\"\u001b[39;49m\u001b[43m,\u001b[49m\n\u001b[32m    303\u001b[39m \u001b[43m        \u001b[49m\u001b[43mchunks\u001b[49m\u001b[43m=\u001b[49m\u001b[43m{\u001b[49m\u001b[43m}\u001b[49m\u001b[43m,\u001b[49m\n\u001b[32m    304\u001b[39m \u001b[43m        \u001b[49m\u001b[43m*\u001b[49m\u001b[43m*\u001b[49m\u001b[43mxarray_open_params\u001b[49m\u001b[43m,\u001b[49m\n\u001b[32m    305\u001b[39m \u001b[43m    \u001b[49m\u001b[43m)\u001b[49m\n\u001b[32m    306\u001b[39m     ds = ds.sel(\n\u001b[32m    307\u001b[39m         x=\u001b[38;5;28mslice\u001b[39m(final_bbox[\u001b[32m0\u001b[39m], final_bbox[\u001b[32m2\u001b[39m]),\n\u001b[32m    308\u001b[39m         y=\u001b[38;5;28mslice\u001b[39m(final_bbox[\u001b[32m3\u001b[39m], final_bbox[\u001b[32m1\u001b[39m]),\n\u001b[32m    309\u001b[39m     )\n\u001b[32m    310\u001b[39m     \u001b[38;5;28;01mif\u001b[39;00m \u001b[38;5;28many\u001b[39m(size == \u001b[32m0\u001b[39m \u001b[38;5;28;01mfor\u001b[39;00m size \u001b[38;5;129;01min\u001b[39;00m ds.sizes.values()):\n",
      "\u001b[36mFile \u001b[39m\u001b[32m~/micromamba/envs/xcube-eopf/lib/python3.13/site-packages/xarray/backends/api.py:687\u001b[39m, in \u001b[36mopen_dataset\u001b[39m\u001b[34m(filename_or_obj, engine, chunks, cache, decode_cf, mask_and_scale, decode_times, decode_timedelta, use_cftime, concat_characters, decode_coords, drop_variables, inline_array, chunked_array_type, from_array_kwargs, backend_kwargs, **kwargs)\u001b[39m\n\u001b[32m    675\u001b[39m decoders = _resolve_decoders_kwargs(\n\u001b[32m    676\u001b[39m     decode_cf,\n\u001b[32m    677\u001b[39m     open_backend_dataset_parameters=backend.open_dataset_parameters,\n\u001b[32m   (...)\u001b[39m\u001b[32m    683\u001b[39m     decode_coords=decode_coords,\n\u001b[32m    684\u001b[39m )\n\u001b[32m    686\u001b[39m overwrite_encoded_chunks = kwargs.pop(\u001b[33m\"\u001b[39m\u001b[33moverwrite_encoded_chunks\u001b[39m\u001b[33m\"\u001b[39m, \u001b[38;5;28;01mNone\u001b[39;00m)\n\u001b[32m--> \u001b[39m\u001b[32m687\u001b[39m backend_ds = \u001b[43mbackend\u001b[49m\u001b[43m.\u001b[49m\u001b[43mopen_dataset\u001b[49m\u001b[43m(\u001b[49m\n\u001b[32m    688\u001b[39m \u001b[43m    \u001b[49m\u001b[43mfilename_or_obj\u001b[49m\u001b[43m,\u001b[49m\n\u001b[32m    689\u001b[39m \u001b[43m    \u001b[49m\u001b[43mdrop_variables\u001b[49m\u001b[43m=\u001b[49m\u001b[43mdrop_variables\u001b[49m\u001b[43m,\u001b[49m\n\u001b[32m    690\u001b[39m \u001b[43m    \u001b[49m\u001b[43m*\u001b[49m\u001b[43m*\u001b[49m\u001b[43mdecoders\u001b[49m\u001b[43m,\u001b[49m\n\u001b[32m    691\u001b[39m \u001b[43m    \u001b[49m\u001b[43m*\u001b[49m\u001b[43m*\u001b[49m\u001b[43mkwargs\u001b[49m\u001b[43m,\u001b[49m\n\u001b[32m    692\u001b[39m \u001b[43m\u001b[49m\u001b[43m)\u001b[49m\n\u001b[32m    693\u001b[39m ds = _dataset_from_backend_dataset(\n\u001b[32m    694\u001b[39m     backend_ds,\n\u001b[32m    695\u001b[39m     filename_or_obj,\n\u001b[32m   (...)\u001b[39m\u001b[32m    705\u001b[39m     **kwargs,\n\u001b[32m    706\u001b[39m )\n\u001b[32m    707\u001b[39m \u001b[38;5;28;01mreturn\u001b[39;00m ds\n",
      "\u001b[36mFile \u001b[39m\u001b[32m~/micromamba/envs/xcube-eopf/lib/python3.13/site-packages/xarray_eopf/backend.py:185\u001b[39m, in \u001b[36mEopfBackend.open_dataset\u001b[39m\u001b[34m(self, filename_or_obj, op_mode, storage_options, group_sep, variables, product_type, resolution, spline_orders, agg_methods, drop_variables, decode_timedelta)\u001b[39m\n\u001b[32m    132\u001b[39m \u001b[38;5;250m\u001b[39m\u001b[33;03m\"\"\"Backend implementation delegated to by\u001b[39;00m\n\u001b[32m    133\u001b[39m \u001b[33;03m[`xarray.open_dataset()`](https://docs.xarray.dev/en/stable/generated/xarray.open_dataset.html).\u001b[39;00m\n\u001b[32m    134\u001b[39m \n\u001b[32m   (...)\u001b[39m\u001b[32m    181\u001b[39m \u001b[33;03m    A new dataset instance.\u001b[39;00m\n\u001b[32m    182\u001b[39m \u001b[33;03m\"\"\"\u001b[39;00m\n\u001b[32m    183\u001b[39m assert_arg_is_one_of(op_mode, \u001b[33m\"\u001b[39m\u001b[33mop_mode\u001b[39m\u001b[33m\"\u001b[39m, OP_MODES)\n\u001b[32m--> \u001b[39m\u001b[32m185\u001b[39m datatree = \u001b[38;5;28;43mself\u001b[39;49m\u001b[43m.\u001b[49m\u001b[43mopen_datatree\u001b[49m\u001b[43m(\u001b[49m\n\u001b[32m    186\u001b[39m \u001b[43m    \u001b[49m\u001b[43mfilename_or_obj\u001b[49m\u001b[43m,\u001b[49m\n\u001b[32m    187\u001b[39m \u001b[43m    \u001b[49m\u001b[43mop_mode\u001b[49m\u001b[43m=\u001b[49m\u001b[33;43m\"\u001b[39;49m\u001b[33;43mnative\u001b[39;49m\u001b[33;43m\"\u001b[39;49m\u001b[43m,\u001b[49m\n\u001b[32m    188\u001b[39m \u001b[43m    \u001b[49m\u001b[43mstorage_options\u001b[49m\u001b[43m=\u001b[49m\u001b[43mstorage_options\u001b[49m\u001b[43m,\u001b[49m\n\u001b[32m    189\u001b[39m \u001b[43m    \u001b[49m\u001b[38;5;66;43;03m# here as it is required for all backends\u001b[39;49;00m\n\u001b[32m    190\u001b[39m \u001b[43m    \u001b[49m\u001b[43mdrop_variables\u001b[49m\u001b[43m=\u001b[49m\u001b[43mdrop_variables\u001b[49m\u001b[43m,\u001b[49m\n\u001b[32m    191\u001b[39m \u001b[43m    \u001b[49m\u001b[38;5;66;43;03m# here to silence xarray warnings\u001b[39;49;00m\n\u001b[32m    192\u001b[39m \u001b[43m    \u001b[49m\u001b[43mdecode_timedelta\u001b[49m\u001b[43m=\u001b[49m\u001b[43mdecode_timedelta\u001b[49m\u001b[43m,\u001b[49m\n\u001b[32m    193\u001b[39m \u001b[43m\u001b[49m\u001b[43m)\u001b[49m\n\u001b[32m    195\u001b[39m _assert_datatree_is_chunked(datatree)\n\u001b[32m    197\u001b[39m \u001b[38;5;28;01mif\u001b[39;00m op_mode == OP_MODE_NATIVE:\n\u001b[32m    198\u001b[39m     \u001b[38;5;66;03m# native mode\u001b[39;00m\n",
      "\u001b[36mFile \u001b[39m\u001b[32m~/micromamba/envs/xcube-eopf/lib/python3.13/site-packages/xarray_eopf/backend.py:81\u001b[39m, in \u001b[36mEopfBackend.open_datatree\u001b[39m\u001b[34m(self, filename_or_obj, op_mode, product_type, storage_options, drop_variables, decode_timedelta)\u001b[39m\n\u001b[32m     78\u001b[39m _, subgroup_path = get_source_paths(source)\n\u001b[32m     80\u001b[39m \u001b[38;5;66;03m# noinspection PyTypeChecker\u001b[39;00m\n\u001b[32m---> \u001b[39m\u001b[32m81\u001b[39m datatree = \u001b[43mxr\u001b[49m\u001b[43m.\u001b[49m\u001b[43mopen_datatree\u001b[49m\u001b[43m(\u001b[49m\n\u001b[32m     82\u001b[39m \u001b[43m    \u001b[49m\u001b[43msource\u001b[49m\u001b[43m,\u001b[49m\n\u001b[32m     83\u001b[39m \u001b[43m    \u001b[49m\u001b[43mengine\u001b[49m\u001b[43m=\u001b[49m\u001b[33;43m\"\u001b[39;49m\u001b[33;43mzarr\u001b[39;49m\u001b[33;43m\"\u001b[39;49m\u001b[43m,\u001b[49m\n\u001b[32m     84\u001b[39m \u001b[43m    \u001b[49m\u001b[38;5;66;43;03m# prefer the chunking from the Zarr metadata\u001b[39;49;00m\n\u001b[32m     85\u001b[39m \u001b[43m    \u001b[49m\u001b[43mchunks\u001b[49m\u001b[43m=\u001b[49m\u001b[43m{\u001b[49m\u001b[43m}\u001b[49m\u001b[43m,\u001b[49m\n\u001b[32m     86\u001b[39m \u001b[43m    \u001b[49m\u001b[38;5;66;43;03m# here as it is required for all backends\u001b[39;49;00m\n\u001b[32m     87\u001b[39m \u001b[43m    \u001b[49m\u001b[43mdrop_variables\u001b[49m\u001b[43m=\u001b[49m\u001b[43mdrop_variables\u001b[49m\u001b[43m,\u001b[49m\n\u001b[32m     88\u001b[39m \u001b[43m    \u001b[49m\u001b[38;5;66;43;03m# here to silence xarray warnings\u001b[39;49;00m\n\u001b[32m     89\u001b[39m \u001b[43m    \u001b[49m\u001b[43mdecode_timedelta\u001b[49m\u001b[43m=\u001b[49m\u001b[43mdecode_timedelta\u001b[49m\u001b[43m,\u001b[49m\n\u001b[32m     90\u001b[39m \u001b[43m    \u001b[49m\u001b[38;5;66;43;03m# subgroups don't have consolidated metadata\u001b[39;49;00m\n\u001b[32m     91\u001b[39m \u001b[43m    \u001b[49m\u001b[43mconsolidated\u001b[49m\u001b[43m=\u001b[49m\u001b[38;5;28;43;01mFalse\u001b[39;49;00m\u001b[43m \u001b[49m\u001b[38;5;28;43;01mif\u001b[39;49;00m\u001b[43m \u001b[49m\u001b[43msubgroup_path\u001b[49m\u001b[43m \u001b[49m\u001b[38;5;28;43;01melse\u001b[39;49;00m\u001b[43m \u001b[49m\u001b[38;5;28;43;01mNone\u001b[39;49;00m\u001b[43m,\u001b[49m\n\u001b[32m     92\u001b[39m \u001b[43m\u001b[49m\u001b[43m)\u001b[49m\n\u001b[32m     94\u001b[39m _assert_datatree_is_chunked(datatree)\n\u001b[32m     96\u001b[39m \u001b[38;5;28;01mif\u001b[39;00m op_mode == OP_MODE_NATIVE:\n\u001b[32m     97\u001b[39m     \u001b[38;5;66;03m# native mode, so we return tree as-is\u001b[39;00m\n",
      "\u001b[36mFile \u001b[39m\u001b[32m~/micromamba/envs/xcube-eopf/lib/python3.13/site-packages/xarray/backends/api.py:1132\u001b[39m, in \u001b[36mopen_datatree\u001b[39m\u001b[34m(filename_or_obj, engine, chunks, cache, decode_cf, mask_and_scale, decode_times, decode_timedelta, use_cftime, concat_characters, decode_coords, drop_variables, inline_array, chunked_array_type, from_array_kwargs, backend_kwargs, **kwargs)\u001b[39m\n\u001b[32m   1120\u001b[39m decoders = _resolve_decoders_kwargs(\n\u001b[32m   1121\u001b[39m     decode_cf,\n\u001b[32m   1122\u001b[39m     open_backend_dataset_parameters=backend.open_dataset_parameters,\n\u001b[32m   (...)\u001b[39m\u001b[32m   1128\u001b[39m     decode_coords=decode_coords,\n\u001b[32m   1129\u001b[39m )\n\u001b[32m   1130\u001b[39m overwrite_encoded_chunks = kwargs.pop(\u001b[33m\"\u001b[39m\u001b[33moverwrite_encoded_chunks\u001b[39m\u001b[33m\"\u001b[39m, \u001b[38;5;28;01mNone\u001b[39;00m)\n\u001b[32m-> \u001b[39m\u001b[32m1132\u001b[39m backend_tree = \u001b[43mbackend\u001b[49m\u001b[43m.\u001b[49m\u001b[43mopen_datatree\u001b[49m\u001b[43m(\u001b[49m\n\u001b[32m   1133\u001b[39m \u001b[43m    \u001b[49m\u001b[43mfilename_or_obj\u001b[49m\u001b[43m,\u001b[49m\n\u001b[32m   1134\u001b[39m \u001b[43m    \u001b[49m\u001b[43mdrop_variables\u001b[49m\u001b[43m=\u001b[49m\u001b[43mdrop_variables\u001b[49m\u001b[43m,\u001b[49m\n\u001b[32m   1135\u001b[39m \u001b[43m    \u001b[49m\u001b[43m*\u001b[49m\u001b[43m*\u001b[49m\u001b[43mdecoders\u001b[49m\u001b[43m,\u001b[49m\n\u001b[32m   1136\u001b[39m \u001b[43m    \u001b[49m\u001b[43m*\u001b[49m\u001b[43m*\u001b[49m\u001b[43mkwargs\u001b[49m\u001b[43m,\u001b[49m\n\u001b[32m   1137\u001b[39m \u001b[43m\u001b[49m\u001b[43m)\u001b[49m\n\u001b[32m   1139\u001b[39m tree = _datatree_from_backend_datatree(\n\u001b[32m   1140\u001b[39m     backend_tree,\n\u001b[32m   1141\u001b[39m     filename_or_obj,\n\u001b[32m   (...)\u001b[39m\u001b[32m   1151\u001b[39m     **kwargs,\n\u001b[32m   1152\u001b[39m )\n\u001b[32m   1154\u001b[39m \u001b[38;5;28;01mreturn\u001b[39;00m tree\n",
      "\u001b[36mFile \u001b[39m\u001b[32m~/micromamba/envs/xcube-eopf/lib/python3.13/site-packages/xarray/backends/zarr.py:1658\u001b[39m, in \u001b[36mZarrBackendEntrypoint.open_datatree\u001b[39m\u001b[34m(self, filename_or_obj, mask_and_scale, decode_times, concat_characters, decode_coords, drop_variables, use_cftime, decode_timedelta, group, mode, synchronizer, consolidated, chunk_store, storage_options, zarr_version, zarr_format)\u001b[39m\n\u001b[32m   1637\u001b[39m \u001b[38;5;28;01mdef\u001b[39;00m\u001b[38;5;250m \u001b[39m\u001b[34mopen_datatree\u001b[39m(\n\u001b[32m   1638\u001b[39m     \u001b[38;5;28mself\u001b[39m,\n\u001b[32m   1639\u001b[39m     filename_or_obj: \u001b[38;5;28mstr\u001b[39m | os.PathLike[Any] | ReadBuffer | AbstractDataStore,\n\u001b[32m   (...)\u001b[39m\u001b[32m   1655\u001b[39m     zarr_format=\u001b[38;5;28;01mNone\u001b[39;00m,\n\u001b[32m   1656\u001b[39m ) -> DataTree:\n\u001b[32m   1657\u001b[39m     filename_or_obj = _normalize_path(filename_or_obj)\n\u001b[32m-> \u001b[39m\u001b[32m1658\u001b[39m     groups_dict = \u001b[38;5;28;43mself\u001b[39;49m\u001b[43m.\u001b[49m\u001b[43mopen_groups_as_dict\u001b[49m\u001b[43m(\u001b[49m\n\u001b[32m   1659\u001b[39m \u001b[43m        \u001b[49m\u001b[43mfilename_or_obj\u001b[49m\u001b[43m=\u001b[49m\u001b[43mfilename_or_obj\u001b[49m\u001b[43m,\u001b[49m\n\u001b[32m   1660\u001b[39m \u001b[43m        \u001b[49m\u001b[43mmask_and_scale\u001b[49m\u001b[43m=\u001b[49m\u001b[43mmask_and_scale\u001b[49m\u001b[43m,\u001b[49m\n\u001b[32m   1661\u001b[39m \u001b[43m        \u001b[49m\u001b[43mdecode_times\u001b[49m\u001b[43m=\u001b[49m\u001b[43mdecode_times\u001b[49m\u001b[43m,\u001b[49m\n\u001b[32m   1662\u001b[39m \u001b[43m        \u001b[49m\u001b[43mconcat_characters\u001b[49m\u001b[43m=\u001b[49m\u001b[43mconcat_characters\u001b[49m\u001b[43m,\u001b[49m\n\u001b[32m   1663\u001b[39m \u001b[43m        \u001b[49m\u001b[43mdecode_coords\u001b[49m\u001b[43m=\u001b[49m\u001b[43mdecode_coords\u001b[49m\u001b[43m,\u001b[49m\n\u001b[32m   1664\u001b[39m \u001b[43m        \u001b[49m\u001b[43mdrop_variables\u001b[49m\u001b[43m=\u001b[49m\u001b[43mdrop_variables\u001b[49m\u001b[43m,\u001b[49m\n\u001b[32m   1665\u001b[39m \u001b[43m        \u001b[49m\u001b[43muse_cftime\u001b[49m\u001b[43m=\u001b[49m\u001b[43muse_cftime\u001b[49m\u001b[43m,\u001b[49m\n\u001b[32m   1666\u001b[39m \u001b[43m        \u001b[49m\u001b[43mdecode_timedelta\u001b[49m\u001b[43m=\u001b[49m\u001b[43mdecode_timedelta\u001b[49m\u001b[43m,\u001b[49m\n\u001b[32m   1667\u001b[39m \u001b[43m        \u001b[49m\u001b[43mgroup\u001b[49m\u001b[43m=\u001b[49m\u001b[43mgroup\u001b[49m\u001b[43m,\u001b[49m\n\u001b[32m   1668\u001b[39m \u001b[43m        \u001b[49m\u001b[43mmode\u001b[49m\u001b[43m=\u001b[49m\u001b[43mmode\u001b[49m\u001b[43m,\u001b[49m\n\u001b[32m   1669\u001b[39m \u001b[43m        \u001b[49m\u001b[43msynchronizer\u001b[49m\u001b[43m=\u001b[49m\u001b[43msynchronizer\u001b[49m\u001b[43m,\u001b[49m\n\u001b[32m   1670\u001b[39m \u001b[43m        \u001b[49m\u001b[43mconsolidated\u001b[49m\u001b[43m=\u001b[49m\u001b[43mconsolidated\u001b[49m\u001b[43m,\u001b[49m\n\u001b[32m   1671\u001b[39m \u001b[43m        \u001b[49m\u001b[43mchunk_store\u001b[49m\u001b[43m=\u001b[49m\u001b[43mchunk_store\u001b[49m\u001b[43m,\u001b[49m\n\u001b[32m   1672\u001b[39m \u001b[43m        \u001b[49m\u001b[43mstorage_options\u001b[49m\u001b[43m=\u001b[49m\u001b[43mstorage_options\u001b[49m\u001b[43m,\u001b[49m\n\u001b[32m   1673\u001b[39m \u001b[43m        \u001b[49m\u001b[43mzarr_version\u001b[49m\u001b[43m=\u001b[49m\u001b[43mzarr_version\u001b[49m\u001b[43m,\u001b[49m\n\u001b[32m   1674\u001b[39m \u001b[43m        \u001b[49m\u001b[43mzarr_format\u001b[49m\u001b[43m=\u001b[49m\u001b[43mzarr_format\u001b[49m\u001b[43m,\u001b[49m\n\u001b[32m   1675\u001b[39m \u001b[43m    \u001b[49m\u001b[43m)\u001b[49m\n\u001b[32m   1677\u001b[39m     \u001b[38;5;28;01mreturn\u001b[39;00m datatree_from_dict_with_io_cleanup(groups_dict)\n",
      "\u001b[36mFile \u001b[39m\u001b[32m~/micromamba/envs/xcube-eopf/lib/python3.13/site-packages/xarray/backends/zarr.py:1725\u001b[39m, in \u001b[36mZarrBackendEntrypoint.open_groups_as_dict\u001b[39m\u001b[34m(self, filename_or_obj, mask_and_scale, decode_times, concat_characters, decode_coords, drop_variables, use_cftime, decode_timedelta, group, mode, synchronizer, consolidated, chunk_store, storage_options, zarr_version, zarr_format)\u001b[39m\n\u001b[32m   1722\u001b[39m store_entrypoint = StoreBackendEntrypoint()\n\u001b[32m   1724\u001b[39m \u001b[38;5;28;01mwith\u001b[39;00m close_on_error(store):\n\u001b[32m-> \u001b[39m\u001b[32m1725\u001b[39m     group_ds = \u001b[43mstore_entrypoint\u001b[49m\u001b[43m.\u001b[49m\u001b[43mopen_dataset\u001b[49m\u001b[43m(\u001b[49m\n\u001b[32m   1726\u001b[39m \u001b[43m        \u001b[49m\u001b[43mstore\u001b[49m\u001b[43m,\u001b[49m\n\u001b[32m   1727\u001b[39m \u001b[43m        \u001b[49m\u001b[43mmask_and_scale\u001b[49m\u001b[43m=\u001b[49m\u001b[43mmask_and_scale\u001b[49m\u001b[43m,\u001b[49m\n\u001b[32m   1728\u001b[39m \u001b[43m        \u001b[49m\u001b[43mdecode_times\u001b[49m\u001b[43m=\u001b[49m\u001b[43mdecode_times\u001b[49m\u001b[43m,\u001b[49m\n\u001b[32m   1729\u001b[39m \u001b[43m        \u001b[49m\u001b[43mconcat_characters\u001b[49m\u001b[43m=\u001b[49m\u001b[43mconcat_characters\u001b[49m\u001b[43m,\u001b[49m\n\u001b[32m   1730\u001b[39m \u001b[43m        \u001b[49m\u001b[43mdecode_coords\u001b[49m\u001b[43m=\u001b[49m\u001b[43mdecode_coords\u001b[49m\u001b[43m,\u001b[49m\n\u001b[32m   1731\u001b[39m \u001b[43m        \u001b[49m\u001b[43mdrop_variables\u001b[49m\u001b[43m=\u001b[49m\u001b[43mdrop_variables\u001b[49m\u001b[43m,\u001b[49m\n\u001b[32m   1732\u001b[39m \u001b[43m        \u001b[49m\u001b[43muse_cftime\u001b[49m\u001b[43m=\u001b[49m\u001b[43muse_cftime\u001b[49m\u001b[43m,\u001b[49m\n\u001b[32m   1733\u001b[39m \u001b[43m        \u001b[49m\u001b[43mdecode_timedelta\u001b[49m\u001b[43m=\u001b[49m\u001b[43mdecode_timedelta\u001b[49m\u001b[43m,\u001b[49m\n\u001b[32m   1734\u001b[39m \u001b[43m    \u001b[49m\u001b[43m)\u001b[49m\n\u001b[32m   1735\u001b[39m \u001b[38;5;28;01mif\u001b[39;00m group:\n\u001b[32m   1736\u001b[39m     group_name = \u001b[38;5;28mstr\u001b[39m(NodePath(path_group).relative_to(parent))\n",
      "\u001b[36mFile \u001b[39m\u001b[32m~/micromamba/envs/xcube-eopf/lib/python3.13/site-packages/xarray/backends/store.py:59\u001b[39m, in \u001b[36mStoreBackendEntrypoint.open_dataset\u001b[39m\u001b[34m(self, filename_or_obj, mask_and_scale, decode_times, concat_characters, decode_coords, drop_variables, use_cftime, decode_timedelta)\u001b[39m\n\u001b[32m     45\u001b[39m encoding = filename_or_obj.get_encoding()\n\u001b[32m     47\u001b[39m \u001b[38;5;28mvars\u001b[39m, attrs, coord_names = conventions.decode_cf_variables(\n\u001b[32m     48\u001b[39m     \u001b[38;5;28mvars\u001b[39m,\n\u001b[32m     49\u001b[39m     attrs,\n\u001b[32m   (...)\u001b[39m\u001b[32m     56\u001b[39m     decode_timedelta=decode_timedelta,\n\u001b[32m     57\u001b[39m )\n\u001b[32m---> \u001b[39m\u001b[32m59\u001b[39m ds = \u001b[43mDataset\u001b[49m\u001b[43m(\u001b[49m\u001b[38;5;28;43mvars\u001b[39;49m\u001b[43m,\u001b[49m\u001b[43m \u001b[49m\u001b[43mattrs\u001b[49m\u001b[43m=\u001b[49m\u001b[43mattrs\u001b[49m\u001b[43m)\u001b[49m\n\u001b[32m     60\u001b[39m ds = ds.set_coords(coord_names.intersection(\u001b[38;5;28mvars\u001b[39m))\n\u001b[32m     61\u001b[39m ds.set_close(filename_or_obj.close)\n",
      "\u001b[36mFile \u001b[39m\u001b[32m~/micromamba/envs/xcube-eopf/lib/python3.13/site-packages/xarray/core/dataset.py:388\u001b[39m, in \u001b[36mDataset.__init__\u001b[39m\u001b[34m(self, data_vars, coords, attrs)\u001b[39m\n\u001b[32m    385\u001b[39m \u001b[38;5;28;01mif\u001b[39;00m \u001b[38;5;28misinstance\u001b[39m(coords, Dataset):\n\u001b[32m    386\u001b[39m     coords = coords._variables\n\u001b[32m--> \u001b[39m\u001b[32m388\u001b[39m variables, coord_names, dims, indexes, _ = \u001b[43mmerge_data_and_coords\u001b[49m\u001b[43m(\u001b[49m\n\u001b[32m    389\u001b[39m \u001b[43m    \u001b[49m\u001b[43mdata_vars\u001b[49m\u001b[43m,\u001b[49m\u001b[43m \u001b[49m\u001b[43mcoords\u001b[49m\n\u001b[32m    390\u001b[39m \u001b[43m\u001b[49m\u001b[43m)\u001b[49m\n\u001b[32m    392\u001b[39m \u001b[38;5;28mself\u001b[39m._attrs = \u001b[38;5;28mdict\u001b[39m(attrs) \u001b[38;5;28;01mif\u001b[39;00m attrs \u001b[38;5;28;01melse\u001b[39;00m \u001b[38;5;28;01mNone\u001b[39;00m\n\u001b[32m    393\u001b[39m \u001b[38;5;28mself\u001b[39m._close = \u001b[38;5;28;01mNone\u001b[39;00m\n",
      "\u001b[36mFile \u001b[39m\u001b[32m~/micromamba/envs/xcube-eopf/lib/python3.13/site-packages/xarray/structure/merge.py:1075\u001b[39m, in \u001b[36mmerge_data_and_coords\u001b[39m\u001b[34m(data_vars, coords)\u001b[39m\n\u001b[32m   1071\u001b[39m     coords = create_coords_with_default_indexes(coords, data_vars)\n\u001b[32m   1073\u001b[39m \u001b[38;5;66;03m# exclude coords from alignment (all variables in a Coordinates object should\u001b[39;00m\n\u001b[32m   1074\u001b[39m \u001b[38;5;66;03m# already be aligned together) and use coordinates' indexes to align data_vars\u001b[39;00m\n\u001b[32m-> \u001b[39m\u001b[32m1075\u001b[39m \u001b[38;5;28;01mreturn\u001b[39;00m \u001b[43mmerge_core\u001b[49m\u001b[43m(\u001b[49m\n\u001b[32m   1076\u001b[39m \u001b[43m    \u001b[49m\u001b[43m[\u001b[49m\u001b[43mdata_vars\u001b[49m\u001b[43m,\u001b[49m\u001b[43m \u001b[49m\u001b[43mcoords\u001b[49m\u001b[43m]\u001b[49m\u001b[43m,\u001b[49m\n\u001b[32m   1077\u001b[39m \u001b[43m    \u001b[49m\u001b[43mcompat\u001b[49m\u001b[43m=\u001b[49m\u001b[33;43m\"\u001b[39;49m\u001b[33;43mbroadcast_equals\u001b[39;49m\u001b[33;43m\"\u001b[39;49m\u001b[43m,\u001b[49m\n\u001b[32m   1078\u001b[39m \u001b[43m    \u001b[49m\u001b[43mjoin\u001b[49m\u001b[43m=\u001b[49m\u001b[33;43m\"\u001b[39;49m\u001b[33;43mouter\u001b[39;49m\u001b[33;43m\"\u001b[39;49m\u001b[43m,\u001b[49m\n\u001b[32m   1079\u001b[39m \u001b[43m    \u001b[49m\u001b[43mexplicit_coords\u001b[49m\u001b[43m=\u001b[49m\u001b[38;5;28;43mtuple\u001b[39;49m\u001b[43m(\u001b[49m\u001b[43mcoords\u001b[49m\u001b[43m)\u001b[49m\u001b[43m,\u001b[49m\n\u001b[32m   1080\u001b[39m \u001b[43m    \u001b[49m\u001b[43mindexes\u001b[49m\u001b[43m=\u001b[49m\u001b[43mcoords\u001b[49m\u001b[43m.\u001b[49m\u001b[43mxindexes\u001b[49m\u001b[43m,\u001b[49m\n\u001b[32m   1081\u001b[39m \u001b[43m    \u001b[49m\u001b[43mpriority_arg\u001b[49m\u001b[43m=\u001b[49m\u001b[32;43m1\u001b[39;49m\u001b[43m,\u001b[49m\n\u001b[32m   1082\u001b[39m \u001b[43m    \u001b[49m\u001b[43mskip_align_args\u001b[49m\u001b[43m=\u001b[49m\u001b[43m[\u001b[49m\u001b[32;43m1\u001b[39;49m\u001b[43m]\u001b[49m\u001b[43m,\u001b[49m\n\u001b[32m   1083\u001b[39m \u001b[43m\u001b[49m\u001b[43m)\u001b[49m\n",
      "\u001b[36mFile \u001b[39m\u001b[32m~/micromamba/envs/xcube-eopf/lib/python3.13/site-packages/xarray/structure/merge.py:700\u001b[39m, in \u001b[36mmerge_core\u001b[39m\u001b[34m(objects, compat, join, combine_attrs, priority_arg, explicit_coords, indexes, fill_value, skip_align_args)\u001b[39m\n\u001b[32m    697\u001b[39m \u001b[38;5;28;01mfor\u001b[39;00m pos, obj \u001b[38;5;129;01min\u001b[39;00m skip_align_objs:\n\u001b[32m    698\u001b[39m     aligned.insert(pos, obj)\n\u001b[32m--> \u001b[39m\u001b[32m700\u001b[39m collected = \u001b[43mcollect_variables_and_indexes\u001b[49m\u001b[43m(\u001b[49m\u001b[43maligned\u001b[49m\u001b[43m,\u001b[49m\u001b[43m \u001b[49m\u001b[43mindexes\u001b[49m\u001b[43m=\u001b[49m\u001b[43mindexes\u001b[49m\u001b[43m)\u001b[49m\n\u001b[32m    701\u001b[39m prioritized = _get_priority_vars_and_indexes(aligned, priority_arg, compat=compat)\n\u001b[32m    702\u001b[39m variables, out_indexes = merge_collected(\n\u001b[32m    703\u001b[39m     collected, prioritized, compat=compat, combine_attrs=combine_attrs\n\u001b[32m    704\u001b[39m )\n",
      "\u001b[36mFile \u001b[39m\u001b[32m~/micromamba/envs/xcube-eopf/lib/python3.13/site-packages/xarray/structure/merge.py:367\u001b[39m, in \u001b[36mcollect_variables_and_indexes\u001b[39m\u001b[34m(list_of_mappings, indexes)\u001b[39m\n\u001b[32m    365\u001b[39m     append(name, variable, indexes[name])\n\u001b[32m    366\u001b[39m \u001b[38;5;28;01melif\u001b[39;00m variable.dims == (name,):\n\u001b[32m--> \u001b[39m\u001b[32m367\u001b[39m     idx, idx_vars = \u001b[43mcreate_default_index_implicit\u001b[49m\u001b[43m(\u001b[49m\u001b[43mvariable\u001b[49m\u001b[43m)\u001b[49m\n\u001b[32m    368\u001b[39m     append_all(idx_vars, \u001b[38;5;28mdict\u001b[39m.fromkeys(idx_vars, idx))\n\u001b[32m    369\u001b[39m \u001b[38;5;28;01melse\u001b[39;00m:\n",
      "\u001b[36mFile \u001b[39m\u001b[32m~/micromamba/envs/xcube-eopf/lib/python3.13/site-packages/xarray/core/indexes.py:1574\u001b[39m, in \u001b[36mcreate_default_index_implicit\u001b[39m\u001b[34m(dim_variable, all_variables)\u001b[39m\n\u001b[32m   1572\u001b[39m \u001b[38;5;28;01melse\u001b[39;00m:\n\u001b[32m   1573\u001b[39m     dim_var = {name: dim_variable}\n\u001b[32m-> \u001b[39m\u001b[32m1574\u001b[39m     index = \u001b[43mPandasIndex\u001b[49m\u001b[43m.\u001b[49m\u001b[43mfrom_variables\u001b[49m\u001b[43m(\u001b[49m\u001b[43mdim_var\u001b[49m\u001b[43m,\u001b[49m\u001b[43m \u001b[49m\u001b[43moptions\u001b[49m\u001b[43m=\u001b[49m\u001b[43m{\u001b[49m\u001b[43m}\u001b[49m\u001b[43m)\u001b[49m\n\u001b[32m   1575\u001b[39m     index_vars = index.create_variables(dim_var)\n\u001b[32m   1577\u001b[39m \u001b[38;5;28;01mreturn\u001b[39;00m index, index_vars\n",
      "\u001b[36mFile \u001b[39m\u001b[32m~/micromamba/envs/xcube-eopf/lib/python3.13/site-packages/xarray/core/indexes.py:664\u001b[39m, in \u001b[36mPandasIndex.from_variables\u001b[39m\u001b[34m(cls, variables, options)\u001b[39m\n\u001b[32m    661\u001b[39m     \u001b[38;5;28;01mif\u001b[39;00m level \u001b[38;5;129;01mis\u001b[39;00m \u001b[38;5;129;01mnot\u001b[39;00m \u001b[38;5;28;01mNone\u001b[39;00m:\n\u001b[32m    662\u001b[39m         data = var._data.array.get_level_values(level)\n\u001b[32m--> \u001b[39m\u001b[32m664\u001b[39m obj = \u001b[38;5;28;43mcls\u001b[39;49m\u001b[43m(\u001b[49m\u001b[43mdata\u001b[49m\u001b[43m,\u001b[49m\u001b[43m \u001b[49m\u001b[43mdim\u001b[49m\u001b[43m,\u001b[49m\u001b[43m \u001b[49m\u001b[43mcoord_dtype\u001b[49m\u001b[43m=\u001b[49m\u001b[43mvar\u001b[49m\u001b[43m.\u001b[49m\u001b[43mdtype\u001b[49m\u001b[43m)\u001b[49m\n\u001b[32m    665\u001b[39m \u001b[38;5;28;01massert\u001b[39;00m \u001b[38;5;129;01mnot\u001b[39;00m \u001b[38;5;28misinstance\u001b[39m(obj.index, pd.MultiIndex)\n\u001b[32m    666\u001b[39m \u001b[38;5;66;03m# Rename safely\u001b[39;00m\n\u001b[32m    667\u001b[39m \u001b[38;5;66;03m# make a shallow copy: cheap and because the index name may be updated\u001b[39;00m\n\u001b[32m    668\u001b[39m \u001b[38;5;66;03m# here or in other constructors (cannot use pd.Index.rename as this\u001b[39;00m\n\u001b[32m    669\u001b[39m \u001b[38;5;66;03m# constructor is also called from PandasMultiIndex)\u001b[39;00m\n",
      "\u001b[36mFile \u001b[39m\u001b[32m~/micromamba/envs/xcube-eopf/lib/python3.13/site-packages/xarray/core/indexes.py:595\u001b[39m, in \u001b[36mPandasIndex.__init__\u001b[39m\u001b[34m(self, array, dim, coord_dtype, fastpath)\u001b[39m\n\u001b[32m    593\u001b[39m     index = array\n\u001b[32m    594\u001b[39m \u001b[38;5;28;01melse\u001b[39;00m:\n\u001b[32m--> \u001b[39m\u001b[32m595\u001b[39m     index = \u001b[43msafe_cast_to_index\u001b[49m\u001b[43m(\u001b[49m\u001b[43marray\u001b[49m\u001b[43m)\u001b[49m\n\u001b[32m    597\u001b[39m \u001b[38;5;28;01mif\u001b[39;00m index.name \u001b[38;5;129;01mis\u001b[39;00m \u001b[38;5;28;01mNone\u001b[39;00m:\n\u001b[32m    598\u001b[39m     \u001b[38;5;66;03m# make a shallow copy: cheap and because the index name may be updated\u001b[39;00m\n\u001b[32m    599\u001b[39m     \u001b[38;5;66;03m# here or in other constructors (cannot use pd.Index.rename as this\u001b[39;00m\n\u001b[32m    600\u001b[39m     \u001b[38;5;66;03m# constructor is also called from PandasMultiIndex)\u001b[39;00m\n\u001b[32m    601\u001b[39m     index = index.copy()\n",
      "\u001b[36mFile \u001b[39m\u001b[32m~/micromamba/envs/xcube-eopf/lib/python3.13/site-packages/xarray/core/indexes.py:475\u001b[39m, in \u001b[36msafe_cast_to_index\u001b[39m\u001b[34m(array)\u001b[39m\n\u001b[32m    465\u001b[39m             emit_user_level_warning(\n\u001b[32m    466\u001b[39m                 (\n\u001b[32m    467\u001b[39m                     \u001b[33m\"\u001b[39m\u001b[33m`pandas.Index` does not support the `float16` dtype.\u001b[39m\u001b[33m\"\u001b[39m\n\u001b[32m   (...)\u001b[39m\u001b[32m    471\u001b[39m                 category=\u001b[38;5;167;01mDeprecationWarning\u001b[39;00m,\n\u001b[32m    472\u001b[39m             )\n\u001b[32m    473\u001b[39m             kwargs[\u001b[33m\"\u001b[39m\u001b[33mdtype\u001b[39m\u001b[33m\"\u001b[39m] = \u001b[33m\"\u001b[39m\u001b[33mfloat64\u001b[39m\u001b[33m\"\u001b[39m\n\u001b[32m--> \u001b[39m\u001b[32m475\u001b[39m     index = pd.Index(\u001b[43mto_numpy\u001b[49m\u001b[43m(\u001b[49m\u001b[43marray\u001b[49m\u001b[43m)\u001b[49m, **kwargs)\n\u001b[32m    477\u001b[39m \u001b[38;5;28;01mreturn\u001b[39;00m _maybe_cast_to_cftimeindex(index)\n",
      "\u001b[36mFile \u001b[39m\u001b[32m~/micromamba/envs/xcube-eopf/lib/python3.13/site-packages/xarray/namedarray/pycompat.py:112\u001b[39m, in \u001b[36mto_numpy\u001b[39m\u001b[34m(data, **kwargs)\u001b[39m\n\u001b[32m    109\u001b[39m     \u001b[38;5;28;01mpass\u001b[39;00m\n\u001b[32m    111\u001b[39m \u001b[38;5;28;01mif\u001b[39;00m \u001b[38;5;28misinstance\u001b[39m(data, ExplicitlyIndexed):\n\u001b[32m--> \u001b[39m\u001b[32m112\u001b[39m     data = \u001b[43mdata\u001b[49m\u001b[43m.\u001b[49m\u001b[43mget_duck_array\u001b[49m\u001b[43m(\u001b[49m\u001b[43m)\u001b[49m  \u001b[38;5;66;03m# type: ignore[no-untyped-call]\u001b[39;00m\n\u001b[32m    114\u001b[39m \u001b[38;5;66;03m# TODO first attempt to call .to_numpy() once some libraries implement it\u001b[39;00m\n\u001b[32m    115\u001b[39m \u001b[38;5;28;01mif\u001b[39;00m is_chunked_array(data):\n",
      "\u001b[36mFile \u001b[39m\u001b[32m~/micromamba/envs/xcube-eopf/lib/python3.13/site-packages/xarray/backends/common.py:275\u001b[39m, in \u001b[36mBackendArray.get_duck_array\u001b[39m\u001b[34m(self, dtype)\u001b[39m\n\u001b[32m    273\u001b[39m \u001b[38;5;28;01mdef\u001b[39;00m\u001b[38;5;250m \u001b[39m\u001b[34mget_duck_array\u001b[39m(\u001b[38;5;28mself\u001b[39m, dtype: np.typing.DTypeLike = \u001b[38;5;28;01mNone\u001b[39;00m):\n\u001b[32m    274\u001b[39m     key = indexing.BasicIndexer((\u001b[38;5;28mslice\u001b[39m(\u001b[38;5;28;01mNone\u001b[39;00m),) * \u001b[38;5;28mself\u001b[39m.ndim)\n\u001b[32m--> \u001b[39m\u001b[32m275\u001b[39m     \u001b[38;5;28;01mreturn\u001b[39;00m \u001b[38;5;28;43mself\u001b[39;49m\u001b[43m[\u001b[49m\u001b[43mkey\u001b[49m\u001b[43m]\u001b[49m\n",
      "\u001b[36mFile \u001b[39m\u001b[32m~/micromamba/envs/xcube-eopf/lib/python3.13/site-packages/xarray/backends/zarr.py:223\u001b[39m, in \u001b[36mZarrArrayWrapper.__getitem__\u001b[39m\u001b[34m(self, key)\u001b[39m\n\u001b[32m    221\u001b[39m \u001b[38;5;28;01melif\u001b[39;00m \u001b[38;5;28misinstance\u001b[39m(key, indexing.OuterIndexer):\n\u001b[32m    222\u001b[39m     method = \u001b[38;5;28mself\u001b[39m._oindex\n\u001b[32m--> \u001b[39m\u001b[32m223\u001b[39m \u001b[38;5;28;01mreturn\u001b[39;00m \u001b[43mindexing\u001b[49m\u001b[43m.\u001b[49m\u001b[43mexplicit_indexing_adapter\u001b[49m\u001b[43m(\u001b[49m\n\u001b[32m    224\u001b[39m \u001b[43m    \u001b[49m\u001b[43mkey\u001b[49m\u001b[43m,\u001b[49m\u001b[43m \u001b[49m\u001b[43marray\u001b[49m\u001b[43m.\u001b[49m\u001b[43mshape\u001b[49m\u001b[43m,\u001b[49m\u001b[43m \u001b[49m\u001b[43mindexing\u001b[49m\u001b[43m.\u001b[49m\u001b[43mIndexingSupport\u001b[49m\u001b[43m.\u001b[49m\u001b[43mVECTORIZED\u001b[49m\u001b[43m,\u001b[49m\u001b[43m \u001b[49m\u001b[43mmethod\u001b[49m\n\u001b[32m    225\u001b[39m \u001b[43m\u001b[49m\u001b[43m)\u001b[49m\n",
      "\u001b[36mFile \u001b[39m\u001b[32m~/micromamba/envs/xcube-eopf/lib/python3.13/site-packages/xarray/core/indexing.py:1015\u001b[39m, in \u001b[36mexplicit_indexing_adapter\u001b[39m\u001b[34m(key, shape, indexing_support, raw_indexing_method)\u001b[39m\n\u001b[32m    993\u001b[39m \u001b[38;5;250m\u001b[39m\u001b[33;03m\"\"\"Support explicit indexing by delegating to a raw indexing method.\u001b[39;00m\n\u001b[32m    994\u001b[39m \n\u001b[32m    995\u001b[39m \u001b[33;03mOuter and/or vectorized indexers are supported by indexing a second time\u001b[39;00m\n\u001b[32m   (...)\u001b[39m\u001b[32m   1012\u001b[39m \u001b[33;03mIndexing result, in the form of a duck numpy-array.\u001b[39;00m\n\u001b[32m   1013\u001b[39m \u001b[33;03m\"\"\"\u001b[39;00m\n\u001b[32m   1014\u001b[39m raw_key, numpy_indices = decompose_indexer(key, shape, indexing_support)\n\u001b[32m-> \u001b[39m\u001b[32m1015\u001b[39m result = \u001b[43mraw_indexing_method\u001b[49m\u001b[43m(\u001b[49m\u001b[43mraw_key\u001b[49m\u001b[43m.\u001b[49m\u001b[43mtuple\u001b[49m\u001b[43m)\u001b[49m\n\u001b[32m   1016\u001b[39m \u001b[38;5;28;01mif\u001b[39;00m numpy_indices.tuple:\n\u001b[32m   1017\u001b[39m     \u001b[38;5;66;03m# index the loaded duck array\u001b[39;00m\n\u001b[32m   1018\u001b[39m     indexable = as_indexable(result)\n",
      "\u001b[36mFile \u001b[39m\u001b[32m~/micromamba/envs/xcube-eopf/lib/python3.13/site-packages/xarray/backends/zarr.py:213\u001b[39m, in \u001b[36mZarrArrayWrapper._getitem\u001b[39m\u001b[34m(self, key)\u001b[39m\n\u001b[32m    212\u001b[39m \u001b[38;5;28;01mdef\u001b[39;00m\u001b[38;5;250m \u001b[39m\u001b[34m_getitem\u001b[39m(\u001b[38;5;28mself\u001b[39m, key):\n\u001b[32m--> \u001b[39m\u001b[32m213\u001b[39m     \u001b[38;5;28;01mreturn\u001b[39;00m \u001b[38;5;28;43mself\u001b[39;49m\u001b[43m.\u001b[49m\u001b[43m_array\u001b[49m\u001b[43m[\u001b[49m\u001b[43mkey\u001b[49m\u001b[43m]\u001b[49m\n",
      "\u001b[36mFile \u001b[39m\u001b[32m~/micromamba/envs/xcube-eopf/lib/python3.13/site-packages/zarr/core.py:799\u001b[39m, in \u001b[36mArray.__getitem__\u001b[39m\u001b[34m(self, selection)\u001b[39m\n\u001b[32m    797\u001b[39m     result = \u001b[38;5;28mself\u001b[39m.get_orthogonal_selection(pure_selection, fields=fields)\n\u001b[32m    798\u001b[39m \u001b[38;5;28;01melse\u001b[39;00m:\n\u001b[32m--> \u001b[39m\u001b[32m799\u001b[39m     result = \u001b[38;5;28;43mself\u001b[39;49m\u001b[43m.\u001b[49m\u001b[43mget_basic_selection\u001b[49m\u001b[43m(\u001b[49m\u001b[43mpure_selection\u001b[49m\u001b[43m,\u001b[49m\u001b[43m \u001b[49m\u001b[43mfields\u001b[49m\u001b[43m=\u001b[49m\u001b[43mfields\u001b[49m\u001b[43m)\u001b[49m\n\u001b[32m    800\u001b[39m \u001b[38;5;28;01mreturn\u001b[39;00m result\n",
      "\u001b[36mFile \u001b[39m\u001b[32m~/micromamba/envs/xcube-eopf/lib/python3.13/site-packages/zarr/core.py:925\u001b[39m, in \u001b[36mArray.get_basic_selection\u001b[39m\u001b[34m(self, selection, out, fields)\u001b[39m\n\u001b[32m    923\u001b[39m     \u001b[38;5;28;01mreturn\u001b[39;00m \u001b[38;5;28mself\u001b[39m._get_basic_selection_zd(selection=selection, out=out, fields=fields)\n\u001b[32m    924\u001b[39m \u001b[38;5;28;01melse\u001b[39;00m:\n\u001b[32m--> \u001b[39m\u001b[32m925\u001b[39m     \u001b[38;5;28;01mreturn\u001b[39;00m \u001b[38;5;28;43mself\u001b[39;49m\u001b[43m.\u001b[49m\u001b[43m_get_basic_selection_nd\u001b[49m\u001b[43m(\u001b[49m\u001b[43mselection\u001b[49m\u001b[43m=\u001b[49m\u001b[43mselection\u001b[49m\u001b[43m,\u001b[49m\u001b[43m \u001b[49m\u001b[43mout\u001b[49m\u001b[43m=\u001b[49m\u001b[43mout\u001b[49m\u001b[43m,\u001b[49m\u001b[43m \u001b[49m\u001b[43mfields\u001b[49m\u001b[43m=\u001b[49m\u001b[43mfields\u001b[49m\u001b[43m)\u001b[49m\n",
      "\u001b[36mFile \u001b[39m\u001b[32m~/micromamba/envs/xcube-eopf/lib/python3.13/site-packages/zarr/core.py:967\u001b[39m, in \u001b[36mArray._get_basic_selection_nd\u001b[39m\u001b[34m(self, selection, out, fields)\u001b[39m\n\u001b[32m    961\u001b[39m \u001b[38;5;28;01mdef\u001b[39;00m\u001b[38;5;250m \u001b[39m\u001b[34m_get_basic_selection_nd\u001b[39m(\u001b[38;5;28mself\u001b[39m, selection, out=\u001b[38;5;28;01mNone\u001b[39;00m, fields=\u001b[38;5;28;01mNone\u001b[39;00m):\n\u001b[32m    962\u001b[39m     \u001b[38;5;66;03m# implementation of basic selection for array with at least one dimension\u001b[39;00m\n\u001b[32m    963\u001b[39m \n\u001b[32m    964\u001b[39m     \u001b[38;5;66;03m# setup indexer\u001b[39;00m\n\u001b[32m    965\u001b[39m     indexer = BasicIndexer(selection, \u001b[38;5;28mself\u001b[39m)\n\u001b[32m--> \u001b[39m\u001b[32m967\u001b[39m     \u001b[38;5;28;01mreturn\u001b[39;00m \u001b[38;5;28;43mself\u001b[39;49m\u001b[43m.\u001b[49m\u001b[43m_get_selection\u001b[49m\u001b[43m(\u001b[49m\u001b[43mindexer\u001b[49m\u001b[43m=\u001b[49m\u001b[43mindexer\u001b[49m\u001b[43m,\u001b[49m\u001b[43m \u001b[49m\u001b[43mout\u001b[49m\u001b[43m=\u001b[49m\u001b[43mout\u001b[49m\u001b[43m,\u001b[49m\u001b[43m \u001b[49m\u001b[43mfields\u001b[49m\u001b[43m=\u001b[49m\u001b[43mfields\u001b[49m\u001b[43m)\u001b[49m\n",
      "\u001b[36mFile \u001b[39m\u001b[32m~/micromamba/envs/xcube-eopf/lib/python3.13/site-packages/zarr/core.py:1342\u001b[39m, in \u001b[36mArray._get_selection\u001b[39m\u001b[34m(self, indexer, out, fields)\u001b[39m\n\u001b[32m   1339\u001b[39m \u001b[38;5;28;01mif\u001b[39;00m math.prod(out_shape) > \u001b[32m0\u001b[39m:\n\u001b[32m   1340\u001b[39m     \u001b[38;5;66;03m# allow storage to get multiple items at once\u001b[39;00m\n\u001b[32m   1341\u001b[39m     lchunk_coords, lchunk_selection, lout_selection = \u001b[38;5;28mzip\u001b[39m(*indexer)\n\u001b[32m-> \u001b[39m\u001b[32m1342\u001b[39m     \u001b[38;5;28;43mself\u001b[39;49m\u001b[43m.\u001b[49m\u001b[43m_chunk_getitems\u001b[49m\u001b[43m(\u001b[49m\n\u001b[32m   1343\u001b[39m \u001b[43m        \u001b[49m\u001b[43mlchunk_coords\u001b[49m\u001b[43m,\u001b[49m\n\u001b[32m   1344\u001b[39m \u001b[43m        \u001b[49m\u001b[43mlchunk_selection\u001b[49m\u001b[43m,\u001b[49m\n\u001b[32m   1345\u001b[39m \u001b[43m        \u001b[49m\u001b[43mout\u001b[49m\u001b[43m,\u001b[49m\n\u001b[32m   1346\u001b[39m \u001b[43m        \u001b[49m\u001b[43mlout_selection\u001b[49m\u001b[43m,\u001b[49m\n\u001b[32m   1347\u001b[39m \u001b[43m        \u001b[49m\u001b[43mdrop_axes\u001b[49m\u001b[43m=\u001b[49m\u001b[43mindexer\u001b[49m\u001b[43m.\u001b[49m\u001b[43mdrop_axes\u001b[49m\u001b[43m,\u001b[49m\n\u001b[32m   1348\u001b[39m \u001b[43m        \u001b[49m\u001b[43mfields\u001b[49m\u001b[43m=\u001b[49m\u001b[43mfields\u001b[49m\u001b[43m,\u001b[49m\n\u001b[32m   1349\u001b[39m \u001b[43m    \u001b[49m\u001b[43m)\u001b[49m\n\u001b[32m   1350\u001b[39m \u001b[38;5;28;01mif\u001b[39;00m out.shape:\n\u001b[32m   1351\u001b[39m     \u001b[38;5;28;01mreturn\u001b[39;00m out\n",
      "\u001b[36mFile \u001b[39m\u001b[32m~/micromamba/envs/xcube-eopf/lib/python3.13/site-packages/zarr/core.py:2183\u001b[39m, in \u001b[36mArray._chunk_getitems\u001b[39m\u001b[34m(self, lchunk_coords, lchunk_selection, out, lout_selection, drop_axes, fields)\u001b[39m\n\u001b[32m   2181\u001b[39m     \u001b[38;5;28;01mif\u001b[39;00m \u001b[38;5;129;01mnot\u001b[39;00m \u001b[38;5;28misinstance\u001b[39m(\u001b[38;5;28mself\u001b[39m._meta_array, np.ndarray):\n\u001b[32m   2182\u001b[39m         contexts = ConstantMap(ckeys, constant=Context(meta_array=\u001b[38;5;28mself\u001b[39m._meta_array))\n\u001b[32m-> \u001b[39m\u001b[32m2183\u001b[39m     cdatas = \u001b[38;5;28;43mself\u001b[39;49m\u001b[43m.\u001b[49m\u001b[43mchunk_store\u001b[49m\u001b[43m.\u001b[49m\u001b[43mgetitems\u001b[49m\u001b[43m(\u001b[49m\u001b[43mckeys\u001b[49m\u001b[43m,\u001b[49m\u001b[43m \u001b[49m\u001b[43mcontexts\u001b[49m\u001b[43m=\u001b[49m\u001b[43mcontexts\u001b[49m\u001b[43m)\u001b[49m\n\u001b[32m   2185\u001b[39m \u001b[38;5;28;01mfor\u001b[39;00m ckey, chunk_select, out_select \u001b[38;5;129;01min\u001b[39;00m \u001b[38;5;28mzip\u001b[39m(ckeys, lchunk_selection, lout_selection):\n\u001b[32m   2186\u001b[39m     \u001b[38;5;28;01mif\u001b[39;00m ckey \u001b[38;5;129;01min\u001b[39;00m cdatas:\n",
      "\u001b[36mFile \u001b[39m\u001b[32m~/micromamba/envs/xcube-eopf/lib/python3.13/site-packages/zarr/storage.py:1435\u001b[39m, in \u001b[36mFSStore.getitems\u001b[39m\u001b[34m(self, keys, contexts)\u001b[39m\n\u001b[32m   1432\u001b[39m     \u001b[38;5;28;01mcontinue\u001b[39;00m\n\u001b[32m   1433\u001b[39m \u001b[38;5;28;01melif\u001b[39;00m \u001b[38;5;28misinstance\u001b[39m(v, \u001b[38;5;167;01mException\u001b[39;00m):\n\u001b[32m   1434\u001b[39m     \u001b[38;5;66;03m# Raise any other exception\u001b[39;00m\n\u001b[32m-> \u001b[39m\u001b[32m1435\u001b[39m     \u001b[38;5;28;01mraise\u001b[39;00m v\n\u001b[32m   1436\u001b[39m \u001b[38;5;28;01melse\u001b[39;00m:\n\u001b[32m   1437\u001b[39m     \u001b[38;5;66;03m# The function calling this method may not recognize the transformed\u001b[39;00m\n\u001b[32m   1438\u001b[39m     \u001b[38;5;66;03m# keys, so we send the values returned by self.map.getitems back into\u001b[39;00m\n\u001b[32m   1439\u001b[39m     \u001b[38;5;66;03m# the original key space.\u001b[39;00m\n\u001b[32m   1440\u001b[39m     results[keys_transformed[k]] = v\n",
      "\u001b[36mFile \u001b[39m\u001b[32m~/micromamba/envs/xcube-eopf/lib/python3.13/site-packages/fsspec/asyn.py:257\u001b[39m, in \u001b[36m_run_coros_in_chunks.<locals>._run_coro\u001b[39m\u001b[34m(coro, i)\u001b[39m\n\u001b[32m    255\u001b[39m \u001b[38;5;28;01masync\u001b[39;00m \u001b[38;5;28;01mdef\u001b[39;00m\u001b[38;5;250m \u001b[39m\u001b[34m_run_coro\u001b[39m(coro, i):\n\u001b[32m    256\u001b[39m     \u001b[38;5;28;01mtry\u001b[39;00m:\n\u001b[32m--> \u001b[39m\u001b[32m257\u001b[39m         \u001b[38;5;28;01mreturn\u001b[39;00m \u001b[38;5;28;01mawait\u001b[39;00m asyncio.wait_for(coro, timeout=timeout), i\n\u001b[32m    258\u001b[39m     \u001b[38;5;28;01mexcept\u001b[39;00m \u001b[38;5;167;01mException\u001b[39;00m \u001b[38;5;28;01mas\u001b[39;00m e:\n\u001b[32m    259\u001b[39m         \u001b[38;5;28;01mif\u001b[39;00m \u001b[38;5;129;01mnot\u001b[39;00m return_exceptions:\n",
      "\u001b[36mFile \u001b[39m\u001b[32m~/micromamba/envs/xcube-eopf/lib/python3.13/asyncio/tasks.py:507\u001b[39m, in \u001b[36mwait_for\u001b[39m\u001b[34m(fut, timeout)\u001b[39m\n\u001b[32m    504\u001b[39m         \u001b[38;5;28;01mraise\u001b[39;00m \u001b[38;5;167;01mTimeoutError\u001b[39;00m \u001b[38;5;28;01mfrom\u001b[39;00m\u001b[38;5;250m \u001b[39m\u001b[34;01mexc\u001b[39;00m\n\u001b[32m    506\u001b[39m \u001b[38;5;28;01masync\u001b[39;00m \u001b[38;5;28;01mwith\u001b[39;00m timeouts.timeout(timeout):\n\u001b[32m--> \u001b[39m\u001b[32m507\u001b[39m     \u001b[38;5;28;01mreturn\u001b[39;00m \u001b[38;5;28;01mawait\u001b[39;00m fut\n",
      "\u001b[36mFile \u001b[39m\u001b[32m~/micromamba/envs/xcube-eopf/lib/python3.13/site-packages/fsspec/implementations/http.py:236\u001b[39m, in \u001b[36mHTTPFileSystem._cat_file\u001b[39m\u001b[34m(self, url, start, end, **kwargs)\u001b[39m\n\u001b[32m    234\u001b[39m \u001b[38;5;28;01masync\u001b[39;00m \u001b[38;5;28;01mwith\u001b[39;00m session.get(\u001b[38;5;28mself\u001b[39m.encode_url(url), **kw) \u001b[38;5;28;01mas\u001b[39;00m r:\n\u001b[32m    235\u001b[39m     out = \u001b[38;5;28;01mawait\u001b[39;00m r.read()\n\u001b[32m--> \u001b[39m\u001b[32m236\u001b[39m     \u001b[38;5;28;43mself\u001b[39;49m\u001b[43m.\u001b[49m\u001b[43m_raise_not_found_for_status\u001b[49m\u001b[43m(\u001b[49m\u001b[43mr\u001b[49m\u001b[43m,\u001b[49m\u001b[43m \u001b[49m\u001b[43murl\u001b[49m\u001b[43m)\u001b[49m\n\u001b[32m    237\u001b[39m \u001b[38;5;28;01mreturn\u001b[39;00m out\n",
      "\u001b[36mFile \u001b[39m\u001b[32m~/micromamba/envs/xcube-eopf/lib/python3.13/site-packages/fsspec/implementations/http.py:219\u001b[39m, in \u001b[36mHTTPFileSystem._raise_not_found_for_status\u001b[39m\u001b[34m(self, response, url)\u001b[39m\n\u001b[32m    217\u001b[39m \u001b[38;5;28;01mif\u001b[39;00m response.status == \u001b[32m404\u001b[39m:\n\u001b[32m    218\u001b[39m     \u001b[38;5;28;01mraise\u001b[39;00m \u001b[38;5;167;01mFileNotFoundError\u001b[39;00m(url)\n\u001b[32m--> \u001b[39m\u001b[32m219\u001b[39m \u001b[43mresponse\u001b[49m\u001b[43m.\u001b[49m\u001b[43mraise_for_status\u001b[49m\u001b[43m(\u001b[49m\u001b[43m)\u001b[49m\n",
      "\u001b[36mFile \u001b[39m\u001b[32m~/micromamba/envs/xcube-eopf/lib/python3.13/site-packages/aiohttp/client_reqrep.py:625\u001b[39m, in \u001b[36mClientResponse.raise_for_status\u001b[39m\u001b[34m(self)\u001b[39m\n\u001b[32m    622\u001b[39m \u001b[38;5;28;01mif\u001b[39;00m \u001b[38;5;129;01mnot\u001b[39;00m \u001b[38;5;28mself\u001b[39m._in_context:\n\u001b[32m    623\u001b[39m     \u001b[38;5;28mself\u001b[39m.release()\n\u001b[32m--> \u001b[39m\u001b[32m625\u001b[39m \u001b[38;5;28;01mraise\u001b[39;00m ClientResponseError(\n\u001b[32m    626\u001b[39m     \u001b[38;5;28mself\u001b[39m.request_info,\n\u001b[32m    627\u001b[39m     \u001b[38;5;28mself\u001b[39m.history,\n\u001b[32m    628\u001b[39m     status=\u001b[38;5;28mself\u001b[39m.status,\n\u001b[32m    629\u001b[39m     message=\u001b[38;5;28mself\u001b[39m.reason,\n\u001b[32m    630\u001b[39m     headers=\u001b[38;5;28mself\u001b[39m.headers,\n\u001b[32m    631\u001b[39m )\n",
      "\u001b[31mClientResponseError\u001b[39m: 504, message='Gateway Time-out', url='https://objectstore.eodc.eu:2222/e05ab01a9d56408d82ac32d69a5aae2a:202505-s02msil2a/01/products/cpm_v256/S2C_MSIL2A_20250501T104041_N0511_R008_T32UNE_20250501T161558.zarr/measurements/reflectance/r10m/y/0'"
     ]
    }
   ],
   "source": [
    "%%time\n",
    "ds = store.open_data(\n",
    "    data_id=\"sentinel-2-l2a\",\n",
    "    bbox=bbox,\n",
    "    time_range=[\"2025-05-01\", \"2025-05-15\"],\n",
    "    spatial_res=10 / 111320, # meter in degree,\n",
    "    crs=\"EPSG:4326\",\n",
    "    variables=[\"b02\", \"b03\", \"b04\", \"scl\"],\n",
    ")\n",
    "ds"
   ]
  },
  {
   "cell_type": "code",
   "execution_count": 12,
   "metadata": {},
   "outputs": [
    {
     "ename": "NameError",
     "evalue": "name 'ds' is not defined",
     "output_type": "error",
     "traceback": [
      "\u001b[31m---------------------------------------------------------------------------\u001b[39m",
      "\u001b[31mNameError\u001b[39m                                 Traceback (most recent call last)",
      "\u001b[36mFile \u001b[39m\u001b[32m<timed eval>:1\u001b[39m\n",
      "\u001b[31mNameError\u001b[39m: name 'ds' is not defined"
     ]
    }
   ],
   "source": [
    "%%time\n",
    "ds.b04.isel(time=0)[::10, ::10].plot(vmin=0, vmax=0.2)"
   ]
  },
  {
   "cell_type": "markdown",
   "metadata": {},
   "source": [
    "We now want to generate a similar data cube from the Sentinel-2 L1C product. We therefore assign `data_id` to `\"sentinel-2-l1c\"`."
   ]
  },
  {
   "cell_type": "code",
   "execution_count": 13,
   "metadata": {},
   "outputs": [
    {
     "name": "stderr",
     "output_type": "stream",
     "text": [
      "UsageError: Line magic function `%%time` not found.\n"
     ]
    }
   ],
   "source": [
    "# \"sentinel-2-l1c\" produces 504 error; see issue https://github.com/EOPF-Sample-Service/PMP/issues/207\n",
    "%%time\n",
    "ds = store.open_data(\n",
    "    data_id=\"sentinel-2-l1c\",\n",
    "    bbox=bbox_utm,\n",
    "    time_range=[\"2025-05-01\", \"2025-05-15\"],\n",
    "    spatial_res=10,\n",
    "    crs=crs_target,\n",
    "    variables=[\"b02\", \"b03\", \"b04\", \"scl\"],\n",
    ")\n",
    "ds"
   ]
  },
  {
   "cell_type": "code",
   "execution_count": null,
   "metadata": {},
   "outputs": [],
   "source": [
    "%%time\n",
    "ds.b04.isel(time=0)[::10, ::10].plot(vmin=0, vmax=0.2)"
   ]
  }
 ],
 "metadata": {
  "kernelspec": {
   "display_name": "Python 3 (ipykernel)",
   "language": "python",
   "name": "python3"
  },
  "language_info": {
   "codemirror_mode": {
    "name": "ipython",
    "version": 3
   },
   "file_extension": ".py",
   "mimetype": "text/x-python",
   "name": "python",
   "nbconvert_exporter": "python",
   "pygments_lexer": "ipython3",
   "version": "3.13.3"
  }
 },
 "nbformat": 4,
 "nbformat_minor": 4
}
